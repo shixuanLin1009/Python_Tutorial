{
 "cells": [
  {
   "cell_type": "markdown",
   "metadata": {},
   "source": [
    "# What is a Module?\n",
    "Consider a module to be the same as a code library.\n",
    "\n",
    "A file containing a set of functions you want to include in your application."
   ]
  },
  {
   "cell_type": "markdown",
   "metadata": {},
   "source": [
    "## Create a Module\n",
    "To create a module just save the code you want in a file with the file extension .py:"
   ]
  },
  {
   "cell_type": "code",
   "execution_count": 2,
   "metadata": {},
   "outputs": [],
   "source": [
    "person1 = {\n",
    "  \"name\": \"John\",\n",
    "  \"age\": 36,\n",
    "  \"country\": \"Norway\"\n",
    "}\n",
    "\n",
    "def greeting(name):\n",
    "    print(\"Hello, \" + name)\n",
    "#and Use the moudule\n",
    "# Re-naming a Module\n",
    "# You can create an alias when you import a module, by using the as keyword:\n",
    "\n"
   ]
  },
  {
   "cell_type": "code",
   "execution_count": 2,
   "metadata": {},
   "outputs": [
    {
     "data": {
      "text/plain": [
       "'Hello, my name is John'"
      ]
     },
     "execution_count": 2,
     "metadata": {},
     "output_type": "execute_result"
    }
   ],
   "source": [
    "import Person as p\n",
    "me=p.Person(\"John\",36,\"Norway\")\n",
    "me.greeting()"
   ]
  },
  {
   "cell_type": "markdown",
   "metadata": {},
   "source": [
    "## Built-in Modules"
   ]
  },
  {
   "cell_type": "markdown",
   "metadata": {},
   "source": []
  },
  {
   "cell_type": "code",
   "execution_count": 3,
   "metadata": {},
   "outputs": [
    {
     "name": "stdout",
     "output_type": "stream",
     "text": [
      "Darwin\n"
     ]
    }
   ],
   "source": [
    "import platform\n",
    "\n",
    "x = platform.system()\n",
    "print(x)\n"
   ]
  },
  {
   "cell_type": "markdown",
   "metadata": {},
   "source": [
    "## Using the dir() Function\n",
    "There is a built-in function to list all the function names (or variable names) in a module. The dir() function:"
   ]
  },
  {
   "cell_type": "code",
   "execution_count": 3,
   "metadata": {},
   "outputs": [
    {
     "name": "stdout",
     "output_type": "stream",
     "text": [
      "['MAXYEAR', 'MINYEAR', 'UTC', '__all__', '__builtins__', '__cached__', '__doc__', '__file__', '__loader__', '__name__', '__package__', '__spec__', 'date', 'datetime', 'datetime_CAPI', 'time', 'timedelta', 'timezone', 'tzinfo']\n",
      "2024-12-15 12:15:39.936029\n"
     ]
    }
   ],
   "source": [
    "\n",
    "import datetime\n",
    "x = dir(datetime)\n",
    "print(x)\n",
    "time=datetime.datetime.now()\n",
    "print(time)"
   ]
  },
  {
   "cell_type": "markdown",
   "metadata": {},
   "source": [
    "# What is PIP?\n",
    "PIP is a package manager for Python packages, or modules if you like."
   ]
  },
  {
   "cell_type": "markdown",
   "metadata": {},
   "source": [
    "## What is a Package?\n",
    "A package contains all the files you need for a module.\n",
    "\n",
    "Modules are Python code libraries you can include in your project."
   ]
  },
  {
   "cell_type": "markdown",
   "metadata": {},
   "source": [
    "## Install PIP\n",
    "If you do not have PIP installed, you can download and install it from this page: https://pypi.org/project/pip/\n",
    "\n"
   ]
  },
  {
   "cell_type": "markdown",
   "metadata": {},
   "source": [
    "### Using a Package\n",
    "Once the package is installed, it is ready to use.\n",
    "\n",
    "Import the \"camelcase\" package into your project.\n",
    "\n"
   ]
  },
  {
   "cell_type": "code",
   "execution_count": 8,
   "metadata": {},
   "outputs": [
    {
     "name": "stdout",
     "output_type": "stream",
     "text": [
      "[1 2 3 4 5]\n"
     ]
    }
   ],
   "source": [
    "import numpy as np # numpy is a third-party module, and we can use it to work with arrays:\n",
    "arr = np.array([1, 2, 3, 4, 5])\n",
    "print(arr)"
   ]
  },
  {
   "cell_type": "code",
   "execution_count": 11,
   "metadata": {},
   "outputs": [
    {
     "name": "stdout",
     "output_type": "stream",
     "text": [
      "     Duration  Pulse  Maxpulse  Calories\n",
      "0          60    110       130     409.1\n",
      "1          60    117       145     479.0\n",
      "2          60    103       135     340.0\n",
      "3          45    109       175     282.4\n",
      "4          45    117       148     406.0\n",
      "..        ...    ...       ...       ...\n",
      "164        60    105       140     290.8\n",
      "165        60    110       145     300.0\n",
      "166        60    115       145     310.2\n",
      "167        75    120       150     320.4\n",
      "168        75    125       150     330.4\n",
      "\n",
      "[169 rows x 4 columns]\n",
      "Mean Duration: 63.84615384615385\n"
     ]
    }
   ],
   "source": [
    "import pandas as pd\n",
    "\n",
    "# Load the dataset\n",
    "df = pd.read_csv('data.csv')\n",
    "print(df)\n",
    "# Calculate the mean duration\n",
    "#mean_duration = df['duration'].mean()\n",
    "mean_duration = df['Duration'].mean()\n",
    "\n",
    "# Print the result\n",
    "print(f\"Mean Duration: {mean_duration}\")"
   ]
  },
  {
   "cell_type": "code",
   "execution_count": null,
   "metadata": {},
   "outputs": [],
   "source": []
  }
 ],
 "metadata": {
  "kernelspec": {
   "display_name": ".venv",
   "language": "python",
   "name": "python3"
  },
  "language_info": {
   "codemirror_mode": {
    "name": "ipython",
    "version": 3
   },
   "file_extension": ".py",
   "mimetype": "text/x-python",
   "name": "python",
   "nbconvert_exporter": "python",
   "pygments_lexer": "ipython3",
   "version": "3.12.4"
  }
 },
 "nbformat": 4,
 "nbformat_minor": 2
}
