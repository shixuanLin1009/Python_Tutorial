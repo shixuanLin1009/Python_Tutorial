{
 "cells": [
  {
   "cell_type": "markdown",
   "metadata": {},
   "source": [
    "## Python Booleans\n",
    "Booleans represent one of two values: \n",
    "- True(1)\n",
    "- False(0)"
   ]
  },
  {
   "cell_type": "code",
   "execution_count": null,
   "metadata": {},
   "outputs": [
    {
     "name": "stdout",
     "output_type": "stream",
     "text": [
      "a represents True and b represents False\n"
     ]
    }
   ],
   "source": [
    "a = True\n",
    "b= False\n",
    "print(f\"a represents {a} and b represents {b}\") "
   ]
  },
  {
   "cell_type": "markdown",
   "metadata": {},
   "source": [
    "### Logic express\n"
   ]
  },
  {
   "cell_type": "code",
   "execution_count": 2,
   "metadata": {},
   "outputs": [
    {
     "name": "stdout",
     "output_type": "stream",
     "text": [
      "True\n",
      "False\n",
      "False\n"
     ]
    }
   ],
   "source": [
    "print(10 > 9)\n",
    "print(10 == 9)\n",
    "print(10 < 9)"
   ]
  },
  {
   "cell_type": "code",
   "execution_count": 5,
   "metadata": {},
   "outputs": [
    {
     "name": "stdout",
     "output_type": "stream",
     "text": [
      "a is greater than b is True\n",
      "b is not greater than a\n"
     ]
    }
   ],
   "source": [
    "a = 200\n",
    "b = 33\n",
    "\n",
    "print(f\"a is greater than b is {a > b}\") \n",
    "if b > a:\n",
    "  print(\"b is greater than a\")\n",
    "else:\n",
    "  print(\"b is not greater than a\")"
   ]
  },
  {
   "cell_type": "markdown",
   "metadata": {},
   "source": [
    "### Evaluate Values and Variables"
   ]
  },
  {
   "cell_type": "code",
   "execution_count": 6,
   "metadata": {},
   "outputs": [
    {
     "name": "stdout",
     "output_type": "stream",
     "text": [
      "True\n",
      "True\n"
     ]
    }
   ],
   "source": [
    "print(bool(\"Hello\"))\n",
    "print(bool(15))"
   ]
  },
  {
   "cell_type": "markdown",
   "metadata": {},
   "source": [
    "## Python Operators\n",
    "Operators are used to perform operations on \"variables\" and \"values\"."
   ]
  },
  {
   "cell_type": "code",
   "execution_count": 7,
   "metadata": {},
   "outputs": [
    {
     "name": "stdout",
     "output_type": "stream",
     "text": [
      "15\n"
     ]
    }
   ],
   "source": [
    "#In the example below, we use the + operator to add together two values:\n",
    "print(10 + 5)"
   ]
  },
  {
   "cell_type": "markdown",
   "metadata": {},
   "source": [
    "Python divides the operators in the following groups:\n",
    "\n",
    "- Arithmetic operators\n",
    "- Assignment operators\n",
    "- Comparison operators\n",
    "- Logical operators\n",
    "- Identity operators\n",
    "- Membership operators\n",
    "- Bitwise operators \n",
    "  \n",
    "[Reference](https://www.w3schools.com/python/python_operators.asp)\n"
   ]
  },
  {
   "cell_type": "code",
   "execution_count": 14,
   "metadata": {},
   "outputs": [
    {
     "name": "stdout",
     "output_type": "stream",
     "text": [
      "1\n",
      "7\n",
      "25\n"
     ]
    }
   ],
   "source": [
    "# Arithmetic Operators:are used with numeric values to perform common mathematical operations:\n",
    "#特別的例子\n",
    "print(5 %2 ) # 1\n",
    "print(15 // 2) # 7\n",
    "print(5 ** 2) # 25"
   ]
  },
  {
   "cell_type": "code",
   "execution_count": 15,
   "metadata": {},
   "outputs": [
    {
     "name": "stdout",
     "output_type": "stream",
     "text": [
      "2\n",
      "8\n"
     ]
    }
   ],
   "source": [
    "# Assignment Operators: are used to assign values to variables(with special cases):\n",
    "# 特別的例子\n",
    "x = 5\n",
    "x %= 3\n",
    "print(x) # 2\n",
    "x **= 3\n",
    "print(x) # 8"
   ]
  },
  {
   "cell_type": "code",
   "execution_count": null,
   "metadata": {},
   "outputs": [],
   "source": [
    "# Comparison Operators: are used to compare two values:\n",
    "# 特別的例子\n",
    "print(10 == 10) # True\n",
    "print(10 != 10) # False\n",
    "print(10 < 10) # False\n",
    "print(10 >= 10) # True"
   ]
  },
  {
   "cell_type": "code",
   "execution_count": 16,
   "metadata": {},
   "outputs": [
    {
     "name": "stdout",
     "output_type": "stream",
     "text": [
      "True\n",
      "True\n",
      "False\n"
     ]
    }
   ],
   "source": [
    "# Logical Operators: are used to combine conditional statements:\n",
    "x = 2\n",
    "print(x > 1 and x < 10) # True\n",
    "print(x > 1 or x < 10) # True\n",
    "print(not(x > 1 and x < 10)) # False"
   ]
  },
  {
   "cell_type": "code",
   "execution_count": null,
   "metadata": {},
   "outputs": [
    {
     "name": "stdout",
     "output_type": "stream",
     "text": [
      "True\n",
      "False\n",
      "True\n"
     ]
    }
   ],
   "source": [
    "# Identity Operators: are used to compare the objects, not if they are equal, but if they are actually the same object, with the same memory location:\n",
    "x = [\"apple\", \"banana\"]\n",
    "y = [\"apple\", \"banana\"]\n",
    "z = x\n",
    "\n",
    "print(x is z)\n",
    "\n",
    "# returns True because z is the same object as x\n",
    "\n",
    "print(x is not z)\n",
    "\n",
    "# returns False because z is the same object as x\n",
    "\n",
    "print(x is y)\n",
    "\n",
    "# returns False because x is not the same object as y, even if they have the same content\n",
    "\n",
    "print(x is not y)\n",
    "\n",
    "# returns True because x is not the same object as y, even if they have the same content\n",
    "\n",
    "print(x == y)\n",
    "\n",
    "# to demonstrate the difference betweeen \"is\" and \"==\": this comparison returns True because x is equal to y\n",
    "\n",
    "print(x != y)\n",
    "\n",
    "# to demonstrate the difference betweeen \"is not\" and \"!=\": this comparison returns False because x is equal to y\n"
   ]
  },
  {
   "cell_type": "code",
   "execution_count": null,
   "metadata": {},
   "outputs": [],
   "source": [
    "# Membership Operators: are used to test if a sequence is presented in an object:\n",
    "\n",
    "x = [\"apple\", \"banana\"]\n",
    "\n",
    "print(\"banana\" in x)\n",
    "\n",
    "print(\"pineapple\" not in x)\n",
    "# returns True because a sequence with the value \"banana\" is in the list\n"
   ]
  },
  {
   "cell_type": "markdown",
   "metadata": {},
   "source": [
    "### Operator Precedence\n",
    "\n",
    "[precedence order](https://www.w3schools.com/python/python_operators.asp)"
   ]
  },
  {
   "cell_type": "code",
   "execution_count": 19,
   "metadata": {},
   "outputs": [
    {
     "name": "stdout",
     "output_type": "stream",
     "text": [
      "0\n",
      "115\n"
     ]
    }
   ],
   "source": [
    "print((6 + 3) - (6 + 3))\n",
    "print(100 + 5 * 3)"
   ]
  },
  {
   "cell_type": "markdown",
   "metadata": {},
   "source": [
    "在 Python 中，布林運算符有一些特別的情況和行為，特別是在處理不同類型或空值時。以下是 Python 布林運算符的常見特殊情況："
   ]
  },
  {
   "cell_type": "markdown",
   "metadata": {},
   "source": [
    "1. and 與 or 的返回值:在 Python 中，and 和 or 運算符並不一定返回布林值，而是返回參與運算的原始值。\n",
    "- x and y：如果 x 是假值，則返回 x；否則返回 y。\n",
    "- x or y：如果 x 是真值，則返回 x；否則返回 y。"
   ]
  },
  {
   "cell_type": "code",
   "execution_count": null,
   "metadata": {},
   "outputs": [
    {
     "name": "stdout",
     "output_type": "stream",
     "text": [
      "True\n",
      "0\n",
      "5\n",
      "5\n",
      "3\n"
     ]
    }
   ],
   "source": [
    "#Normal example\n",
    "print(1<2 and 3>2) # True\n",
    "\n",
    "#Special example\n",
    "print(0 and 5)    # 輸出 0，因為 0 是假值\n",
    "print(3 and 5)    # 輸出 5，因為 3 是真值\n",
    "print(0 or 5)     # 輸出 5，因為 0 是假值，返回 5\n",
    "print(3 or 5)     # 輸出 3，因為 3 是真值\n"
   ]
  },
  {
   "cell_type": "markdown",
   "metadata": {},
   "source": [
    "2. not 運算符的行為  \n",
    "not 運算符總是返回布林值，即使操作數不是布林類型。\n",
    "- not x：如果 x 是假值，返回 True；否則返回 False。"
   ]
  },
  {
   "cell_type": "code",
   "execution_count": 6,
   "metadata": {},
   "outputs": [
    {
     "name": "stdout",
     "output_type": "stream",
     "text": [
      "True\n",
      "True\n",
      "False\n"
     ]
    }
   ],
   "source": [
    "print(not 0)      # 輸出 True，因為 0 是假值\n",
    "print(not [])     # 輸出 True，因為空列表是假值\n",
    "print(not 3)      # 輸出 False，因為 3 是真值"
   ]
  },
  {
   "cell_type": "markdown",
   "metadata": {},
   "source": [
    "3. 假值與真值的特殊情況  \n",
    "在 Python 中，一些特定的值會被自動視為「假」或「真」：\n",
    "- 假值：0、空容器（如 []、{}、set()、\"\"）、None、False\n",
    "- 真值：除上述假值以外的所有值都視為真值，包括空字典的比較結果 == 也是布林值。\n"
   ]
  },
  {
   "cell_type": "code",
   "execution_count": 7,
   "metadata": {},
   "outputs": [
    {
     "name": "stdout",
     "output_type": "stream",
     "text": [
      "False\n",
      "False\n",
      "False\n",
      "True\n"
     ]
    }
   ],
   "source": [
    "print(bool(0))       # 輸出 False\n",
    "print(bool(\"\"))      # 輸出 False\n",
    "print(bool(None))    # 輸出 False\n",
    "print(bool([1, 2]))  # 輸出 True，因為列表非空\n"
   ]
  },
  {
   "cell_type": "markdown",
   "metadata": {},
   "source": [
    "4. and 和 or 的短路行為  \n",
    "短路求值：當使用 and 或 or 時，Python 會在不需要進一步運算時停止。\n",
    "- x and y：如果 x 是假值，則不再評估 y，直接返回 x。\n",
    "- x or y：如果 x 是真值，則不再評估 y，直接返回 x。\n"
   ]
  },
  {
   "cell_type": "code",
   "execution_count": 9,
   "metadata": {},
   "outputs": [
    {
     "name": "stdout",
     "output_type": "stream",
     "text": [
      "0\n",
      "This will be printed\n",
      "None\n",
      "1\n"
     ]
    }
   ],
   "source": [
    "print(0 and print(\"This won't be printed\"))  # 不會執行 print()，輸出 0\n",
    "print(1 and print(\"This will be printed\"))   # 會執行 print()，輸出 1\n",
    "print(1 or print(\"This won't be printed\"))   # 不會執行 print()，輸出 1"
   ]
  },
  {
   "cell_type": "markdown",
   "metadata": {},
   "source": [
    "5. is 和 == 的區別  \n",
    "is 運算符檢查兩個變量是否指向相同的物件（物件的識別），而 == 檢查兩個物件的值是否相等。  \n",
    "雖然它們在比較布林值時效果相同，但在比較複合物件（例如列表）時行為不同。\n"
   ]
  },
  {
   "cell_type": "code",
   "execution_count": 10,
   "metadata": {},
   "outputs": [
    {
     "name": "stdout",
     "output_type": "stream",
     "text": [
      "True\n",
      "False\n"
     ]
    }
   ],
   "source": [
    "a = [1, 2, 3]\n",
    "b = [1, 2, 3]\n",
    "print(a == b)    # 輸出 True，因為值相等\n",
    "print(a is b)    # 輸出 False，因為 a 和 b 是不同的物件\n"
   ]
  },
  {
   "cell_type": "markdown",
   "metadata": {},
   "source": [
    "6. any() 與 all() 函數的特殊情況  \n",
    "any()：只要容器中有一個元素為真，則返回 True；否則返回 False。  \n",
    "all()：只要容器中所有元素都為真，則返回 True；否則返回 False。  \n",
    "如果容器是空的，any() 返回 False，而 all() 返回 True。  "
   ]
  },
  {
   "cell_type": "code",
   "execution_count": 11,
   "metadata": {},
   "outputs": [
    {
     "name": "stdout",
     "output_type": "stream",
     "text": [
      "True\n",
      "False\n",
      "False\n",
      "True\n"
     ]
    }
   ],
   "source": [
    "print(any([0, 1, 2]))      # 輸出 True，因為 1 和 2 是真值\n",
    "print(all([0, 1, 2]))      # 輸出 False，因為 0 是假值\n",
    "print(any([]))             # 輸出 False，空列表為 False\n",
    "print(all([]))             # 輸出 True，空列表為 True\n"
   ]
  },
  {
   "cell_type": "code",
   "execution_count": null,
   "metadata": {},
   "outputs": [],
   "source": []
  }
 ],
 "metadata": {
  "kernelspec": {
   "display_name": ".venv",
   "language": "python",
   "name": "python3"
  },
  "language_info": {
   "codemirror_mode": {
    "name": "ipython",
    "version": 3
   },
   "file_extension": ".py",
   "mimetype": "text/x-python",
   "name": "python",
   "nbconvert_exporter": "python",
   "pygments_lexer": "ipython3",
   "version": "3.12.4"
  }
 },
 "nbformat": 4,
 "nbformat_minor": 2
}
