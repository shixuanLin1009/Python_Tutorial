{
 "cells": [
  {
   "cell_type": "markdown",
   "metadata": {},
   "source": [
    "# 為什麼要學習python\n",
    "\n",
    "* 課程聲明 不是教學而是引導，讓你可以自力更生。\n",
    "* 程式設計導論 \n",
    "* 歷史 \n",
    "* 個程式語言的差別 \n",
    "* python的優劣差異起源 \n",
    "* 用各個程式呈現一個簡單的邏輯去呈現差異\n",
    "* 問題啟發式學習"
   ]
  },
  {
   "cell_type": "markdown",
   "metadata": {},
   "source": [
    "## 課程預計規劃\n",
    "\n",
    "* 計畫執行三個月\n",
    "* 前兩個月為上課+練習打好基本功\n",
    "* 最後一個月是開發衝刺製作專題"
   ]
  },
  {
   "cell_type": "markdown",
   "metadata": {},
   "source": [
    "### 程式設計的歷史概述\n",
    "\n",
    "1. 介紹程式設計的演變\n",
    "2. 早期程式語言 (如 Fortran, Lisp, COBOL)\n",
    "3. 現代語言的興起 (C, C++, Java, Python, etc.)"
   ]
  },
  {
   "cell_type": "markdown",
   "metadata": {},
   "source": [
    "### Python 的起源與演變\n",
    "\n",
    "* Python 的創造者與歷史 (由 Guido van Rossum 在 1991 年發表)\n",
    "* Python 的設計哲學與理念（簡潔、可讀性強、易於學習）\n",
    "* 主要版本變遷：Python 2 vs Python 3"
   ]
  },
  {
   "cell_type": "markdown",
   "metadata": {},
   "source": [
    "### Python 的優點與缺點\n",
    "\n",
    "* 優點：\n",
    "  * 可讀性高\n",
    "  * 標準庫豐富\n",
    "  * 社群支援強大\n",
    "  * 廣泛應用於資料科學、網頁開發、人工智慧等領域\n",
    "* 跨平台、開源\n",
    "  * 缺點：\n",
    "  * 執行速度相對較慢（因為是解釋型語言）\n",
    "  * 記憶體使用相對高\n",
    "  * 不適合一些高效能需求的應用（例如即時系統）"
   ]
  },
  {
   "cell_type": "markdown",
   "metadata": {},
   "source": [
    "### 安裝 Python 的步驟\n",
    "\n",
    "Python 可以在多個操作系統上安裝，包括 Windows、macOS 和 Linux。以下是針對不同操作系統的安裝指南：\n",
    "\n",
    "### 1. **Windows 上安裝 Python**\n",
    "\n",
    "#### 步驟：\n",
    "1. **下載 Python**：\n",
    "   - 進入 Python 官方網站：[https://www.python.org/downloads/](https://www.python.org/downloads/)\n",
    "   - 下載適合 Windows 的最新版本 (推薦安裝 Python 3.x 版本)。\n",
    "\n",
    "2. **運行安裝程式**：\n",
    "   - 下載後，雙擊運行安裝程式。\n",
    "   - **重要**：勾選安裝頁面上的 \"Add Python to PATH\" 選項，這樣可以讓 Python 命令行可用。\n",
    "   - 選擇 \"Install Now\" 或 \"Customize Installation\"（如需更改安裝目錄或其他設置）。\n",
    "\n",
    "3. **檢查安裝結果**：\n",
    "   - 打開命令提示符（按 `Win + R`，輸入 `cmd`，然後按回車）。\n",
    "   - 輸入以下命令來檢查 Python 是否正確安裝：\n",
    "     ```bash\n",
    "     python --version\n",
    "     ```\n",
    "     或\n",
    "     ```bash\n",
    "     python3 --version\n",
    "     ```\n",
    "     你應該會看到 Python 版本號顯示在命令行中。\n",
    "\n",
    "4. **安裝 pip**：\n",
    "   - `pip` 是 Python 的套件管理工具，通常與 Python 一同安裝。你可以使用以下命令來確認 `pip` 是否可用：\n",
    "     ```bash\n",
    "     pip --version\n",
    "     ```\n",
    "   - 如果 `pip` 未安裝，可以手動安裝，詳情見 [pip 官方文檔](https://pip.pypa.io/en/stable/installation/)。\n",
    "\n",
    "### 2. **macOS 上安裝 Python**\n",
    "\n",
    "#### 步驟：\n",
    "1. **使用 Homebrew 安裝 Python**（推薦方式）：\n",
    "   - Homebrew 是 macOS 上一個流行的軟件包管理工具。如果你尚未安裝 Homebrew，可以使用以下命令來安裝：\n",
    "     ```bash\n",
    "     /bin/bash -c \"$(curl -fsSL https://raw.githubusercontent.com/Homebrew/install/HEAD/install.sh)\"\n",
    "     ```\n",
    "   - 安裝 Homebrew 後，輸入以下命令安裝最新版本的 Python：\n",
    "     ```bash\n",
    "     brew install python\n",
    "     ```\n",
    "\n",
    "2. **檢查安裝結果**：\n",
    "   - 打開終端 (Terminal)，輸入以下命令檢查 Python 是否正確安裝：\n",
    "     ```bash\n",
    "     python3 --version\n",
    "     ```\n",
    "\n",
    "3. **安裝 pip**：\n",
    "   - Homebrew 安裝的 Python 通常會自帶 `pip`，你可以使用以下命令來檢查：\n",
    "     ```bash\n",
    "     pip3 --version\n",
    "     ```\n",
    "\n",
    "### 3. **Linux 上安裝 Python**\n",
    "\n",
    "#### 步驟：\n",
    "1. **檢查系統自帶 Python**：\n",
    "   - 大多數 Linux 發行版已經預裝了 Python，通常可以通過以下命令來檢查：\n",
    "     ```bash\n",
    "     python3 --version\n",
    "     ```\n",
    "\n",
    "2. **使用包管理工具安裝 Python**：\n",
    "   - 如果你的 Linux 系統沒有預裝 Python 或需要安裝更新版本，可以使用系統的包管理工具進行安裝。\n",
    "   \n",
    "   **Ubuntu / Debian** 系統上安裝：\n",
    "   ```bash\n",
    "   sudo apt update\n",
    "   sudo apt install python3\n",
    "   ```\n",
    "\n",
    "   **Fedora / CentOS** 系統上安裝：\n",
    "   ```bash\n",
    "   sudo dnf install python3\n",
    "   ```\n",
    "\n",
    "3. **檢查安裝結果**：\n",
    "   - 在終端輸入以下命令，確認 Python 安裝：\n",
    "     ```bash\n",
    "     python3 --version\n",
    "     ```\n",
    "\n",
    "4. **安裝 pip**：\n",
    "   - 如果 `pip` 尚未安裝，可以用以下命令來安裝 `pip`：\n",
    "     ```bash\n",
    "     sudo apt install python3-pip  # Ubuntu / Debian\n",
    "     sudo dnf install python3-pip  # Fedora / CentOS\n",
    "     ```\n",
    "\n",
    "### 4. **在任何系統上使用 Anaconda 安裝 Python（選擇性）**\n",
    "\n",
    "Anaconda 是一個打包的 Python 發行版本，專注於資料科學和機器學習，包含了 Python 和大量有用的套件。如果你的目標是進行數據分析或 AI 項目，可以考慮使用 Anaconda。\n",
    "\n",
    "#### 步驟：\n",
    "1. 前往 Anaconda 官方網站下載：[https://www.anaconda.com/](https://www.anaconda.com/)\n",
    "2. 選擇適合你的作業系統的 Anaconda 發行版並安裝。\n",
    "3. 安裝完成後，打開 Anaconda Prompt 或終端，輸入以下命令來確認 Python 已安裝：\n",
    "   ```bash\n",
    "   python --version\n",
    "   ```\n",
    "\n",
    "### 5. **安裝完成後的初步配置**\n",
    "\n",
    "- **安裝虛擬環境**：\n",
    "  虛擬環境允許你在不同項目中隔離使用的 Python 版本和套件。你可以使用以下命令安裝和創建虛擬環境：\n",
    "  ```bash\n",
    "  pip install virtualenv\n",
    "  virtualenv myenv\n",
    "  source myenv/bin/activate  # 啟用虛擬環境 (Linux / macOS)\n",
    "  myenv\\Scripts\\activate     # 啟用虛擬環境 (Windows)\n",
    "  ```\n",
    "\n",
    "- **安裝常見套件**：\n",
    "  常見的套件如 `numpy`, `pandas`, `matplotlib` 等可以通過 `pip` 來安裝：\n",
    "  ```bash\n",
    "  pip install numpy pandas matplotlib\n",
    "  ```\n",
    "\n",
    "這些步驟應該能幫助你成功安裝 Python 並開始編寫程式。如果你有任何問題，隨時可以問我！"
   ]
  },
  {
   "cell_type": "markdown",
   "metadata": {},
   "source": [
    "### prerequise in this course\n",
    "\n",
    "* github\n"
   ]
  },
  {
   "cell_type": "code",
   "execution_count": 3,
   "metadata": {},
   "outputs": [
    {
     "name": "stdout",
     "output_type": "stream",
     "text": [
      "hello\n"
     ]
    }
   ],
   "source": [
    "#完成第一個程式吧！請在畫面內印出hello\n",
    "print(\"hello\")"
   ]
  },
  {
   "cell_type": "markdown",
   "metadata": {},
   "source": [
    "### Python Syntax"
   ]
  },
  {
   "cell_type": "markdown",
   "metadata": {},
   "source": [
    "#### Python Indentation\n",
    "Indentation refers to the spaces at the beginning of a code line.\n",
    "\n",
    "Where in other programming languages the indentation in code is for readability only, the indentation in Python is very important.\n",
    "\n",
    "Python uses indentation to indicate a block of code."
   ]
  },
  {
   "cell_type": "code",
   "execution_count": 4,
   "metadata": {},
   "outputs": [
    {
     "name": "stdout",
     "output_type": "stream",
     "text": [
      "Five is greater than two!\n"
     ]
    }
   ],
   "source": [
    "#Example 2\n",
    "if 5 > 2:\n",
    "  print(\"Five is greater than two!\")"
   ]
  },
  {
   "cell_type": "markdown",
   "metadata": {},
   "source": [
    "### Python Variables\n",
    "In Python, variables are created when you assign a value to it:\n",
    "\n"
   ]
  },
  {
   "cell_type": "code",
   "execution_count": 6,
   "metadata": {},
   "outputs": [],
   "source": [
    "x = 5\n",
    "y = \"Hello, World!\"\n",
    "x=y"
   ]
  },
  {
   "cell_type": "markdown",
   "metadata": {},
   "source": [
    "### Comments\n",
    "Python has commenting capability for the purpose of in-code documentation.\n",
    "\n",
    "Comments start with a #, and Python will render the rest of the line as a comment:\n",
    "\n"
   ]
  },
  {
   "cell_type": "code",
   "execution_count": 7,
   "metadata": {},
   "outputs": [
    {
     "name": "stdout",
     "output_type": "stream",
     "text": [
      "Hello, World!\n"
     ]
    }
   ],
   "source": [
    "#This is a comment.\n",
    "print(\"Hello, World!\")"
   ]
  },
  {
   "cell_type": "markdown",
   "metadata": {},
   "source": [
    "## Python Comments\n",
    "\n",
    "Comments can be used to explain Python code.\n",
    "\n",
    "Comments can be used to make the code more readable.\n",
    "\n",
    "Comments can be used to prevent execution when testing code."
   ]
  },
  {
   "cell_type": "markdown",
   "metadata": {},
   "source": [
    "### 為什麼需要註解？\n",
    "將複雜的演算法，轉化成人話"
   ]
  },
  {
   "cell_type": "code",
   "execution_count": 9,
   "metadata": {},
   "outputs": [
    {
     "name": "stdout",
     "output_type": "stream",
     "text": [
      "#####################\n",
      "# #     #     #     #\n",
      "# ### ### # # ##### #\n",
      "#   #   # # #       #\n",
      "### ### # # ####### #\n",
      "#   #   # #     #   #\n",
      "# ### ### ##### ### #\n",
      "#   #   #     #   # #\n",
      "### # # ##### ### # #\n",
      "# # # #     # # # # #\n",
      "# # ##### # # # # # #\n",
      "#   #     # # # # # #\n",
      "# ### ##### # # # # #\n",
      "# # #     # # # # # #\n",
      "# # # ### ### # # ###\n",
      "# #     #   #   #   #\n",
      "# ######### # ##### #\n",
      "#     #   #   #   # #\n",
      "##### # # ##### # # #\n",
      "#       #       #   #\n",
      "#####################\n"
     ]
    }
   ],
   "source": [
    "#以下面的程式碼為例，你看的懂嗎？\n",
    "import random\n",
    "from collections import deque\n",
    "\n",
    "class Maze:\n",
    "    def __init__(self, width, height):\n",
    "        self.width = width\n",
    "        self.height = height\n",
    "        self.maze = [['#' for _ in range(width)] for _ in range(height)]\n",
    "\n",
    "    def generate_maze(self):\n",
    "        start = (1, 1)\n",
    "        self.maze[start[1]][start[0]] = ' '\n",
    "        stack = deque([start])\n",
    "        directions = [(0, 2), (2, 0), (0, -2), (-2, 0)]\n",
    "\n",
    "        while stack:\n",
    "            current = stack[-1]\n",
    "            x, y = current\n",
    "\n",
    "            neighbors = []\n",
    "            for dx, dy in directions:\n",
    "                nx, ny = x + dx, y + dy\n",
    "                if 1 <= nx < self.width - 1 and 1 <= ny < self.height - 1 and self.maze[ny][nx] == '#':\n",
    "                    neighbors.append((nx, ny))\n",
    "\n",
    "            if neighbors:\n",
    "                next_cell = random.choice(neighbors)\n",
    "                nx, ny = next_cell\n",
    "                self.maze[(y + ny) // 2][(x + nx) // 2] = ' '\n",
    "                self.maze[ny][nx] = ' '\n",
    "                stack.append((nx, ny))\n",
    "            else:\n",
    "                stack.pop()\n",
    "\n",
    "    def display_maze(self):\n",
    "        for row in self.maze:\n",
    "            print(''.join(row))\n",
    "\n",
    "maze = Maze(21, 21)\n",
    "maze.generate_maze()\n",
    "maze.display_maze()\n",
    "\n"
   ]
  },
  {
   "cell_type": "markdown",
   "metadata": {},
   "source": [
    "下面是使用 Python 庫來完成的一個相對複雜的演算法：迷宮生成器。\n",
    "\n",
    "使用 DFS (深度優先搜索) 生成迷宮\n",
    "這個演算法使用深度優先搜索（DFS）來隨機生成一個迷宮，並且使用 Python 的 deque 作為堆疊來實現非遞迴的 DFS 搜索。生成的迷宮可以通過文字形式來顯示。\n",
    "\n"
   ]
  },
  {
   "cell_type": "code",
   "execution_count": null,
   "metadata": {},
   "outputs": [],
   "source": [
    "#以下面的程式碼為例，你看的懂嗎？\n",
    "import random\n",
    "from collections import deque\n",
    "\n",
    "# 迷宮生成器類別\n",
    "class Maze:\n",
    "    def __init__(self, width, height):\n",
    "        \"\"\"\n",
    "        初始化迷宮的尺寸，並創建牆壁與通道的數據結構。\n",
    "        迷宮會是一個 width x height 的網格。\n",
    "        \"\"\"\n",
    "        self.width = width\n",
    "        self.height = height\n",
    "        self.maze = [['#' for _ in range(width)] for _ in range(height)]  # '#' 代表牆壁，' ' 代表通道\n",
    "\n",
    "    def generate_maze(self):\n",
    "        \"\"\"\n",
    "        使用深度優先搜索（DFS）來隨機生成迷宮。\n",
    "        \"\"\"\n",
    "        # 起始點設置為 (1, 1)，並將其設為通道\n",
    "        start = (1, 1)\n",
    "        self.maze[start[1]][start[0]] = ' '\n",
    "\n",
    "        # 使用 deque 作為堆疊來實現 DFS\n",
    "        stack = deque([start])\n",
    "        directions = [(0, 2), (2, 0), (0, -2), (-2, 0)]  # 定義四個方向（上下左右，步長為2）\n",
    "\n",
    "        while stack:\n",
    "            current = stack[-1]  # 取當前位置\n",
    "            x, y = current\n",
    "\n",
    "            # 找到所有未探索的鄰居\n",
    "            neighbors = []\n",
    "            for dx, dy in directions:\n",
    "                nx, ny = x + dx, y + dy\n",
    "                if 1 <= nx < self.width - 1 and 1 <= ny < self.height - 1 and self.maze[ny][nx] == '#':\n",
    "                    neighbors.append((nx, ny))\n",
    "\n",
    "            if neighbors:\n",
    "                # 隨機選擇一個鄰居\n",
    "                next_cell = random.choice(neighbors)\n",
    "                nx, ny = next_cell\n",
    "\n",
    "                # 在當前節點和選擇的鄰居之間打通一條路\n",
    "                self.maze[(y + ny) // 2][(x + nx) // 2] = ' '\n",
    "                self.maze[ny][nx] = ' '\n",
    "\n",
    "                # 將鄰居推入堆疊以繼續搜索\n",
    "                stack.append((nx, ny))\n",
    "            else:\n",
    "                # 如果當前節點沒有鄰居，則回退\n",
    "                stack.pop()\n",
    "\n",
    "    def display_maze(self):\n",
    "        \"\"\"\n",
    "        在終端顯示生成的迷宮。\n",
    "        \"\"\"\n",
    "        for row in self.maze:\n",
    "            print(''.join(row))\n",
    "\n",
    "# 使用迷宮生成器創建一個 21x21 的迷宮\n",
    "maze = Maze(21, 21)\n",
    "maze.generate_maze()\n",
    "maze.display_maze()\n"
   ]
  },
  {
   "cell_type": "code",
   "execution_count": null,
   "metadata": {},
   "outputs": [],
   "source": [
    "# oneline comment\n",
    "#This is a comment\n",
    "print(\"Hello, World!\")"
   ]
  },
  {
   "cell_type": "code",
   "execution_count": 8,
   "metadata": {},
   "outputs": [
    {
     "name": "stdout",
     "output_type": "stream",
     "text": [
      "Hello, World!\n"
     ]
    }
   ],
   "source": [
    "#multiline comment\n",
    "\"\"\"\n",
    "This is a comment\n",
    "written in\n",
    "more than just one line\n",
    "\"\"\"\n",
    "print(\"Hello, World!\")"
   ]
  },
  {
   "cell_type": "markdown",
   "metadata": {},
   "source": [
    "## Variables\n",
    "Variables are containers for storing data values."
   ]
  },
  {
   "cell_type": "code",
   "execution_count": 10,
   "metadata": {},
   "outputs": [],
   "source": [
    "#Create a variable named carname and assign the value Volvo to it.\n",
    "car_name = \"Volvo\"\n",
    "car_color = \"red\"\n",
    "car_number = 1234"
   ]
  },
  {
   "cell_type": "code",
   "execution_count": null,
   "metadata": {},
   "outputs": [],
   "source": [
    "#Create a variable named age and assign the value 22 to it."
   ]
  },
  {
   "cell_type": "code",
   "execution_count": null,
   "metadata": {},
   "outputs": [],
   "source": [
    "# Create a variable named x and assign the value 50 to it."
   ]
  },
  {
   "cell_type": "code",
   "execution_count": null,
   "metadata": {},
   "outputs": [],
   "source": [
    "# convient way to assign multiple variables\n",
    "x, y, z = \"Orange\", \"Banana\", \"Cherry\"\n",
    "print(x)\n",
    "print(y)\n",
    "print(z)"
   ]
  },
  {
   "cell_type": "code",
   "execution_count": null,
   "metadata": {},
   "outputs": [],
   "source": [
    "# convient way to assign one value to multiple variables\n",
    "x = y = z = \"Orange\"\n",
    "print(x)\n",
    "print(y)\n",
    "print(z)"
   ]
  },
  {
   "cell_type": "code",
   "execution_count": 13,
   "metadata": {},
   "outputs": [
    {
     "name": "stdout",
     "output_type": "stream",
     "text": [
      "apple\n",
      "banana\n",
      "cherry\n"
     ]
    }
   ],
   "source": [
    "fruits = [\"apple\", \"banana\", \"cherry\"]\n",
    "x, y, z = fruits\n",
    "print(x)\n",
    "print(y)\n",
    "print(z)"
   ]
  },
  {
   "cell_type": "code",
   "execution_count": null,
   "metadata": {},
   "outputs": [],
   "source": [
    "\"\"\"\n",
    "Create a variable called x, assign the value 50 to it, and display it.\n",
    "Create a variable called y, assign the value 5 to it, and display it.\n",
    "Create a variable called z, assign x + y to it, and display the result.\n",
    "\"\"\""
   ]
  },
  {
   "cell_type": "markdown",
   "metadata": {},
   "source": [
    "在python中，變數的定義，與其說是水桶（容器）這在大多數Ｃ語言成立，更像是一個標籤，參找到物件上"
   ]
  },
  {
   "cell_type": "code",
   "execution_count": null,
   "metadata": {},
   "outputs": [],
   "source": [
    "a = [1,2,3]\n",
    "b = a\n",
    "c = a\n",
    "b[1]=5\n",
    "print(a,b,c)\n",
    "#水桶的概念是內容各自獨立，在上述的例子中可以看到，abc都參照到[1,2,3]這個物件上，所以更改其中一個變數，會全部更改。"
   ]
  },
  {
   "cell_type": "markdown",
   "metadata": {},
   "source": [
    "#### Python 命名慣例\n",
    "##### 取自PEP8 (python Enchanement Proposal)\n",
    "\n",
    "- 函式名稱 全部小寫,為增加可讀性可使用底線 foo() ,my_foo()  \n",
    "- 變數名稱 全部小寫， 全部小寫,為增加可讀性可使用底線 my_var()  \n",
    "- 類別名稱 每一單字首字大寫 MyClass  \n",
    "- 常數名稱 全部大寫 TAX_RATE  \n",
    "- 比較 無需用== true 使用 if(myvar)   "
   ]
  },
  {
   "cell_type": "code",
   "execution_count": 12,
   "metadata": {},
   "outputs": [
    {
     "name": "stdout",
     "output_type": "stream",
     "text": [
      "james\n",
      "john\n",
      "3.14\n"
     ]
    }
   ],
   "source": [
    "name=\"james\"\n",
    "def change_name(n):\n",
    "    name=n\n",
    "change_name(\"john\")\n",
    "print(name)\n",
    "\n",
    "class Person():\n",
    "    def __init__(self,name):\n",
    "        self.name=name\n",
    "    def change_name(self,n):\n",
    "        self.name=n\n",
    "        \n",
    "boy=Person(\"james\")\n",
    "boy.change_name(\"john\")\n",
    "print(boy.name)\n",
    "\n",
    "PI = 3.14\n",
    "print(PI)"
   ]
  },
  {
   "cell_type": "markdown",
   "metadata": {},
   "source": [
    "### 為什麼要有變數？為什麼要訂定清晰的規則去命名？"
   ]
  },
  {
   "cell_type": "code",
   "execution_count": null,
   "metadata": {},
   "outputs": [],
   "source": [
    "#這在幹嘛？\n",
    "print( 3.14159 * (5 ** 2))\n",
    "print( 2 * 3.14159 * 5)\n",
    "print( (4/3) * 3.14159 * (5 ** 3))"
   ]
  },
  {
   "cell_type": "code",
   "execution_count": 15,
   "metadata": {},
   "outputs": [
    {
     "name": "stdout",
     "output_type": "stream",
     "text": [
      "34\n"
     ]
    }
   ],
   "source": [
    "# 若用函數改寫\n",
    "pi = 3.14159\n",
    "radius = 5\n",
    "\n",
    "area = pi * (radius ** 2)\n",
    "circumference = 2 * pi * radius\n",
    "volume = (4/3) * pi * (radius ** 3)\n",
    "\n",
    "print(\"圓的面積:\", area)\n",
    "print(\"圓的周長:\", circumference)\n",
    "print(\"球的體積:\", volume)\n"
   ]
  },
  {
   "cell_type": "markdown",
   "metadata": {},
   "source": [
    "可讀性以及重複利用是變數的最大價值"
   ]
  },
  {
   "cell_type": "markdown",
   "metadata": {},
   "source": [
    "## Data types\n",
    "Here’s a list of all the built-in data types in Python:\n",
    "\n",
    "### 1. **Numeric Types**:\n",
    "   - **int**: Integer type (e.g., `5`, `-10`)\n",
    "   - **float**: Floating-point type (e.g., `5.0`, `-3.14`)\n",
    "   - **complex**: Complex number type (e.g., `3 + 5j`)\n",
    "\n",
    "### 2. **Sequence Types**:\n",
    "   - **list**: Mutable ordered sequence of elements (e.g., `[1, 2, 3]`)\n",
    "   - **tuple**: Immutable ordered sequence of elements (e.g., `(1, 2, 3)`)\n",
    "   - **range**: Immutable sequence representing numbers (e.g., `range(10)`)\n",
    "\n",
    "### 3. **Text Type**:\n",
    "   - **str**: String type for text (e.g., `\"hello\"`, `\"world\"`)\n",
    "\n",
    "### 4. **Binary Types**:\n",
    "   - **bytes**: Immutable sequence of bytes (e.g., `b'hello'`)\n",
    "   - **bytearray**: Mutable sequence of bytes (e.g., `bytearray(b'hello')`)\n",
    "   - **memoryview**: Memory view object, which allows access to internal data of objects like `bytes` without copying (e.g., `memoryview(b'hello')`)\n",
    "\n",
    "### 5. **Set Types**:\n",
    "   - **set**: Unordered collection of unique elements (e.g., `{1, 2, 3}`)\n",
    "   - **frozenset**: Immutable version of a set (e.g., `frozenset({1, 2, 3})`)\n",
    "\n",
    "### 6. **Mapping Type**:\n",
    "   - **dict**: Dictionary with key-value pairs (e.g., `{\"key\": \"value\"}`)\n",
    "\n",
    "### 7. **Boolean Type**:\n",
    "   - **bool**: Boolean values `True` and `False`\n",
    "\n",
    "### 8. **None Type**:\n",
    "   - **NoneType**: Represents the absence of a value (`None`)\n",
    "\n",
    "These are the core built-in data types in Python that are widely used for various types of data manipulation and computation."
   ]
  },
  {
   "cell_type": "markdown",
   "metadata": {},
   "source": [
    "Numeric Types"
   ]
  },
  {
   "cell_type": "code",
   "execution_count": 18,
   "metadata": {},
   "outputs": [],
   "source": [
    "#int\n",
    "x = 42\n",
    "y = -10\n",
    "#float\n",
    "a = 3.14\n",
    "b = -0.001\n",
    "#complex\n",
    "z = 2 + 3j\n",
    "w = -1j\n"
   ]
  },
  {
   "cell_type": "markdown",
   "metadata": {},
   "source": [
    "Sequence Types"
   ]
  },
  {
   "cell_type": "code",
   "execution_count": null,
   "metadata": {},
   "outputs": [],
   "source": [
    "#list\n",
    "my_list = [1, 2, 3, \"apple\", True]\n",
    "#tuple\n",
    "my_tuple = (1, 2, 3, \"apple\", True)\n",
    "#set\n",
    "my_set = {1, 2, 3, \"apple\", True}"
   ]
  },
  {
   "cell_type": "markdown",
   "metadata": {},
   "source": [
    "text type"
   ]
  },
  {
   "cell_type": "code",
   "execution_count": null,
   "metadata": {},
   "outputs": [],
   "source": [
    "#str\n",
    "greeting = \"Hello, world!\""
   ]
  },
  {
   "cell_type": "markdown",
   "metadata": {},
   "source": [
    "Binary Types"
   ]
  },
  {
   "cell_type": "code",
   "execution_count": 19,
   "metadata": {},
   "outputs": [],
   "source": [
    "#bytes\n",
    "b = b\"hello\"\n",
    "#bytearray\n",
    "ba = bytearray(5)\n",
    "#memoryview\n",
    "mv = memoryview(b)"
   ]
  },
  {
   "cell_type": "markdown",
   "metadata": {},
   "source": [
    "set types"
   ]
  },
  {
   "cell_type": "code",
   "execution_count": null,
   "metadata": {},
   "outputs": [],
   "source": [
    "#myset\n",
    "my_set = {1, 2, 3, \"apple\", \"banana\"}\n",
    "#frozenset\n",
    "my_frozenset = frozenset([1, 2, 3, \"apple\", \"banana\"])\n"
   ]
  },
  {
   "cell_type": "markdown",
   "metadata": {},
   "source": [
    "Mapping type"
   ]
  },
  {
   "cell_type": "code",
   "execution_count": 20,
   "metadata": {},
   "outputs": [],
   "source": [
    "#dict\n",
    "my_dict = {\"name\": \"Alice\", \"age\": 25, \"city\": \"New York\"}\n"
   ]
  },
  {
   "cell_type": "markdown",
   "metadata": {},
   "source": [
    "Boolean Type:"
   ]
  },
  {
   "cell_type": "code",
   "execution_count": 21,
   "metadata": {},
   "outputs": [],
   "source": [
    "is_active = True\n",
    "is_logged_in = False\n"
   ]
  },
  {
   "cell_type": "markdown",
   "metadata": {},
   "source": [
    "None Type:"
   ]
  },
  {
   "cell_type": "code",
   "execution_count": 22,
   "metadata": {},
   "outputs": [],
   "source": [
    "result = None"
   ]
  },
  {
   "cell_type": "markdown",
   "metadata": {},
   "source": []
  },
  {
   "cell_type": "markdown",
   "metadata": {},
   "source": []
  }
 ],
 "metadata": {
  "kernelspec": {
   "display_name": ".venv",
   "language": "python",
   "name": "python3"
  },
  "language_info": {
   "codemirror_mode": {
    "name": "ipython",
    "version": 3
   },
   "file_extension": ".py",
   "mimetype": "text/x-python",
   "name": "python",
   "nbconvert_exporter": "python",
   "pygments_lexer": "ipython3",
   "version": "3.12.4"
  }
 },
 "nbformat": 4,
 "nbformat_minor": 2
}
