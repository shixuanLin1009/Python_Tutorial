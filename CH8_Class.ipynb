{
 "cells": [
  {
   "cell_type": "markdown",
   "metadata": {},
   "source": [
    "# Classes and Objects\n",
    "Python is an object oriented programming language.\n",
    "\n"
   ]
  },
  {
   "cell_type": "markdown",
   "metadata": {},
   "source": [
    "### What is OOP?  \n",
    "\n",
    "Object-Oriented Programming (OOP) is a way of writing programs by thinking about **objects**, like things in real life. For example, a car is an object—it has properties like color and speed, and it can do things like drive or stop.  \n",
    "\n",
    "In OOP, you create **classes** (blueprints) to define objects. Then, you use these classes to make many objects with similar properties and actions.  \n",
    "\n",
    "---\n",
    "\n",
    "### Key Ideas of OOP (Made Simple):  \n",
    "1. **Encapsulation**: Keep the details inside the object and only allow access to what’s necessary (like keeping a phone’s complex system hidden and only showing the buttons you need).  \n",
    "2. **Inheritance**: Let one object borrow features from another (e.g., a \"sports car\" can inherit from \"car\").  \n",
    "3. **Polymorphism**: One action can behave differently depending on the object (e.g., \"drive\" could mean different things for a bike, a car, or a plane).  \n",
    "\n",
    "---\n",
    "\n",
    "### Why is OOP Important?  \n",
    "\n",
    "OOP helps you:  \n",
    "1. **Stay Organized**: Your program is easier to read and manage because objects group related code together.  \n",
    "2. **Reuse Code**: You don’t need to write the same code twice. Make it once, and use it everywhere.  \n",
    "3. **Build Big Projects**: OOP makes it easier to work on large programs without getting lost.  \n",
    "4. **Solve Real Problems**: You can model real-world things, like a game character or a shopping cart, in your code.  \n",
    "\n",
    "For beginners, Python is great for learning OOP because its syntax is simple. C++ is more advanced and gives you more control but can be harder to start with. Start small, like creating a class for \"dogs,\" and learn as you go!"
   ]
  },
  {
   "cell_type": "markdown",
   "metadata": {},
   "source": [
    "## What is Class?\n",
    "A Class is like an object constructor, or a \"blueprint\" for creating objects."
   ]
  },
  {
   "cell_type": "code",
   "execution_count": 4,
   "metadata": {},
   "outputs": [],
   "source": [
    "class MyClass:\n",
    "  x = 5\n",
    "  y=40"
   ]
  },
  {
   "cell_type": "markdown",
   "metadata": {},
   "source": [
    "## What is Object?\n",
    "real stuff accroding class\n",
    "\n"
   ]
  },
  {
   "cell_type": "code",
   "execution_count": 7,
   "metadata": {},
   "outputs": [
    {
     "name": "stdout",
     "output_type": "stream",
     "text": [
      "5\n",
      "40\n"
     ]
    }
   ],
   "source": [
    "p1 = MyClass()\n",
    "print(p1.x)\n",
    "print(p1.y)"
   ]
  },
  {
   "cell_type": "markdown",
   "metadata": {},
   "source": [
    "## Role in class stucture\n",
    "- two type of charecter in class:arttribure and method\n",
    "- The __init__() Function\n",
    "- The __str__() Function"
   ]
  },
  {
   "cell_type": "code",
   "execution_count": null,
   "metadata": {},
   "outputs": [
    {
     "name": "stdout",
     "output_type": "stream",
     "text": [
      "James 21\n",
      "James 22\n",
      "21 Shanon\n"
     ]
    }
   ],
   "source": [
    "# Create a class named Person, use the __init__() function to assign values for name and age:\n",
    "class Person:\n",
    "    def __init__(self,name,age,disease):\n",
    "        self.__disease=disease \n",
    "        self.name=name\n",
    "        self.age=age\n",
    "    def older(self):\n",
    "        self.age+=1\n",
    "me=Person(\"James\",21,\"cancer\")\n",
    "print(me.name,me.age)\n",
    "you=Person(\"Shanon\",21,\"cancer\")\n",
    "me.older()\n",
    "\n",
    "print(me.name,me.age)\n",
    "print(you.age,you.name)\n"
   ]
  },
  {
   "cell_type": "code",
   "execution_count": 6,
   "metadata": {},
   "outputs": [],
   "source": [
    "# The string representation of an object WITHOUT the __str__() function:"
   ]
  },
  {
   "cell_type": "code",
   "execution_count": null,
   "metadata": {},
   "outputs": [],
   "source": [
    "# The string representation of an object WITH the __str__() function:"
   ]
  },
  {
   "cell_type": "markdown",
   "metadata": {},
   "source": [
    "## Object Methods\n",
    "Objects can also contain methods. Methods in objects are functions that belong to the object."
   ]
  },
  {
   "cell_type": "code",
   "execution_count": 7,
   "metadata": {},
   "outputs": [],
   "source": [
    "# Insert a function that prints a greeting, and execute it on the p1 object:"
   ]
  },
  {
   "cell_type": "markdown",
   "metadata": {},
   "source": [
    "### The self Parameter\n",
    "The self parameter is a reference to the current instance of the class, and is used to access variables that belong to the class.\n",
    "\n",
    "It does not have to be named self, you can call it whatever you like, but it has to be the first parameter of any function in the class:"
   ]
  },
  {
   "cell_type": "code",
   "execution_count": 8,
   "metadata": {},
   "outputs": [],
   "source": [
    "# Use the words mysillyobject and abc instead of self:\n",
    "\n"
   ]
  },
  {
   "cell_type": "code",
   "execution_count": null,
   "metadata": {},
   "outputs": [],
   "source": []
  }
 ],
 "metadata": {
  "kernelspec": {
   "display_name": ".venv",
   "language": "python",
   "name": "python3"
  },
  "language_info": {
   "codemirror_mode": {
    "name": "ipython",
    "version": 3
   },
   "file_extension": ".py",
   "mimetype": "text/x-python",
   "name": "python",
   "nbconvert_exporter": "python",
   "pygments_lexer": "ipython3",
   "version": "3.12.4"
  }
 },
 "nbformat": 4,
 "nbformat_minor": 2
}
