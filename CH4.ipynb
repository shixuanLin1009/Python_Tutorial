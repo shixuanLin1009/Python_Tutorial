{
 "cells": [
  {
   "cell_type": "markdown",
   "metadata": {},
   "source": [
    "## Python Strings\n",
    "Strings in python are surrounded by either single quotation marks, or double quotation marks.\n",
    "\n",
    "'hello' is the same as \"hello\".\n",
    "\n",
    "You can display a string literal with the print() function:"
   ]
  },
  {
   "cell_type": "code",
   "execution_count": 1,
   "metadata": {},
   "outputs": [
    {
     "name": "stdout",
     "output_type": "stream",
     "text": [
      "It's alright\n",
      "He is called 'Johnny'\n",
      "He is called \"Johnny\"\n"
     ]
    }
   ],
   "source": [
    "print(\"It's alright\")\n",
    "print(\"He is called 'Johnny'\")\n",
    "print('He is called \"Johnny\"')"
   ]
  },
  {
   "cell_type": "code",
   "execution_count": 7,
   "metadata": {},
   "outputs": [
    {
     "name": "stdout",
     "output_type": "stream",
     "text": [
      "Lorem ipsum dolor sit amet,\n",
      "consectetur adipiscing elit,\n",
      "sed do eiusmod tempor incididunt\n",
      "ut labore et dolore magna aliqua.\n"
     ]
    }
   ],
   "source": [
    "a = \"\"\"Lorem ipsum dolor sit amet,\n",
    "consectetur adipiscing elit,\n",
    "sed do eiusmod tempor incididunt\n",
    "ut labore et dolore magna aliqua.\"\"\"\n",
    "#\n",
    "print(a)"
   ]
  },
  {
   "cell_type": "code",
   "execution_count": 23,
   "metadata": {},
   "outputs": [
    {
     "name": "stdout",
     "output_type": "stream",
     "text": [
      "l\n",
      "12\n"
     ]
    }
   ],
   "source": [
    "#如何讀取字串中的字元\n",
    "a = \"Hello,World!\"\n",
    "print(a[2])\n",
    "print(len(a))"
   ]
  },
  {
   "cell_type": "code",
   "execution_count": 21,
   "metadata": {},
   "outputs": [
    {
     "name": "stdout",
     "output_type": "stream",
     "text": [
      "World!\n",
      "Hello,World!\n",
      "[1, 4, 5, 6]\n",
      "[1, 4, 5, 7]\n"
     ]
    }
   ],
   "source": [
    "\n",
    "a = \"Hello,World!\"\n",
    "print(a.split(\",\")[1])  \n",
    "print(a)\n",
    "\n",
    "\n",
    "y=[1,4,5,6]\n",
    "print(y)\n",
    "y[3]=7\n",
    "print(y)\n"
   ]
  },
  {
   "cell_type": "code",
   "execution_count": 29,
   "metadata": {},
   "outputs": [
    {
     "name": "stdout",
     "output_type": "stream",
     "text": [
      "b\n",
      "a\n",
      "n\n",
      "a\n",
      "n\n",
      "a\n"
     ]
    }
   ],
   "source": [
    "#LOOP THROUGH A STRING\n",
    "for x in \"banana\":\n",
    "  print(x)"
   ]
  },
  {
   "cell_type": "code",
   "execution_count": 32,
   "metadata": {},
   "outputs": [
    {
     "name": "stdout",
     "output_type": "stream",
     "text": [
      "13\n"
     ]
    }
   ],
   "source": [
    "#STRING LENGTH\n",
    "a = \"Hello, World!\"\n",
    "print(len(a))"
   ]
  },
  {
   "cell_type": "code",
   "execution_count": 33,
   "metadata": {},
   "outputs": [
    {
     "name": "stdout",
     "output_type": "stream",
     "text": [
      "True\n",
      "True\n"
     ]
    }
   ],
   "source": [
    "#Check String\n",
    "txt = \"The best things in life are free!\"\n",
    "print(\"free\" in txt)\n",
    "txt = \"The best things in life are free!\"\n",
    "print(\"expensive\" not in txt)\n"
   ]
  },
  {
   "cell_type": "code",
   "execution_count": 57,
   "metadata": {},
   "outputs": [
    {
     "name": "stdout",
     "output_type": "stream",
     "text": [
      "a\n",
      "3\n"
     ]
    }
   ],
   "source": [
    "z=\"a\"\n",
    "x=\"3\"\n",
    "print(z)\n",
    "print(x)"
   ]
  },
  {
   "cell_type": "code",
   "execution_count": 74,
   "metadata": {},
   "outputs": [
    {
     "name": "stdout",
     "output_type": "stream",
     "text": [
      "36\n",
      "36\n"
     ]
    }
   ],
   "source": [
    "#請計算出下列文章中出現a字元的次數\n",
    "count = 0\n",
    "p =\"\"\"Apples are one of the most popular fruits around the world, known for their crisp texture and refreshing taste. Whether eaten raw, baked into a pie, or blended into a smoothie, an apple offers both versatility and nutrition. Rich in fiber and vitamin C, this fruit is often associated with health benefits, giving rise to the popular saying, \"An apple a day keeps the doctor away.\" Beyond its culinary uses, the apple also carries symbolic meaning, representing knowledge, temptation, and abundance in various cultures.\"\"\"\n",
    "for x in p:\n",
    "    if x == \"a\":\n",
    "        count=count+1\n",
    "print(count)\n",
    "print(p.count(\"a\"))\n"
   ]
  },
  {
   "cell_type": "markdown",
   "metadata": {},
   "source": [
    "## Python - Slicing Strings\n",
    "You can return a range of characters by using the slice syntax.\n",
    "\n",
    "Specify the start index and the end index, separated by a colon, to return a part of the string.\n",
    "\n"
   ]
  },
  {
   "cell_type": "code",
   "execution_count": 69,
   "metadata": {},
   "outputs": [
    {
     "name": "stdout",
     "output_type": "stream",
     "text": [
      "llo\n",
      "Hello\n",
      "llo, World!\n",
      "orl\n"
     ]
    }
   ],
   "source": [
    "b = \"Hello, World!\"\n",
    "print(b[2:5])\n",
    "#slice from the start\n",
    "b = \"Hello, World!\"\n",
    "print(b[:5])\n",
    "#slice to the end\n",
    "b = \"Hello, World!\"\n",
    "print(b[2:])\n",
    "#Negative Indexing\n",
    "b = \"Hello, World!\"\n",
    "print(b[-5:-2])\n"
   ]
  },
  {
   "cell_type": "markdown",
   "metadata": {},
   "source": [
    "## list index 的概念\n",
    "index 是 “間格”的編號，而不是字元本身"
   ]
  },
  {
   "cell_type": "code",
   "execution_count": 70,
   "metadata": {},
   "outputs": [
    {
     "name": "stdout",
     "output_type": "stream",
     "text": [
      "llo\n",
      "odbye\n"
     ]
    }
   ],
   "source": [
    "b = \"Hello, World!\"\n",
    "print(b[2:5])\n",
    "c = \"Goodbye, World!\"\n",
    "print(c[2:7])"
   ]
  },
  {
   "cell_type": "markdown",
   "metadata": {},
   "source": [
    "### built-in methods that you can use on strings.\n",
    "\n",
    "[Reference](https://www.w3schools.com/python/python_strings_methods.asp)"
   ]
  },
  {
   "cell_type": "markdown",
   "metadata": {},
   "source": [
    "### function vs method\n",
    "\n",
    "廣泛而言都是funcrion\n",
    "method 是專屬於物件內的"
   ]
  },
  {
   "cell_type": "code",
   "execution_count": 73,
   "metadata": {},
   "outputs": [
    {
     "name": "stdout",
     "output_type": "stream",
     "text": [
      "HELLO, WORLD!\n",
      "hello, world!\n",
      "Hello, World!\n",
      "Jello, World!\n",
      "['Hello', ' World!']\n",
      "3\n"
     ]
    }
   ],
   "source": [
    "#UPPER CASE\n",
    "a = \"Hello, World!\"\n",
    "print(a.upper())\n",
    "#Lower Case\n",
    "a = \"Hello, World!\"\n",
    "print(a.lower())\n",
    "#Remove Whitespace\n",
    "a = \"        Hello, World! \"\n",
    "print(a.strip()) # returns \"Hello, World!\"\n",
    "#Replace String\n",
    "a = \"Hello, World!\"\n",
    "print(a.replace(\"H\", \"J\"))\n",
    "#Split String\n",
    "a = \"Hello, World!\"\n",
    "print(a.split(\",\")) # returns ['Hello', ' World!']\n",
    "#string count\n",
    "a = \"Hello, World!\"\n",
    "print(a.count(\"l\"))\n"
   ]
  },
  {
   "cell_type": "markdown",
   "metadata": {},
   "source": [
    "## String Concatenation\n",
    "To concatenate, or combine, two strings you can use the + operator."
   ]
  },
  {
   "cell_type": "code",
   "execution_count": 75,
   "metadata": {},
   "outputs": [
    {
     "name": "stdout",
     "output_type": "stream",
     "text": [
      "HelloWorld\n"
     ]
    }
   ],
   "source": [
    "a = \"Hello\"\n",
    "b = \"World\"\n",
    "c = a + b\n",
    "print(c)"
   ]
  },
  {
   "cell_type": "code",
   "execution_count": 76,
   "metadata": {},
   "outputs": [
    {
     "name": "stdout",
     "output_type": "stream",
     "text": [
      "Hello World\n"
     ]
    }
   ],
   "source": [
    "a = \"Hello\"\n",
    "b = \"World\"\n",
    "c = a + \" \" + b\n",
    "print(c)"
   ]
  },
  {
   "cell_type": "markdown",
   "metadata": {},
   "source": [
    "## Format - Strings"
   ]
  },
  {
   "cell_type": "code",
   "execution_count": 77,
   "metadata": {},
   "outputs": [
    {
     "name": "stdout",
     "output_type": "stream",
     "text": [
      "My name is John, I am 36\n",
      "The price is 59 dollars\n",
      "The price is 59.00 dollars\n",
      "The price is 1180 dollars\n"
     ]
    }
   ],
   "source": [
    "age = 36\n",
    "txt = f\"My name is John, I am {age}\"\n",
    "print(txt)\n",
    "\n",
    "price = 59\n",
    "txt = f\"The price is {price} dollars\"\n",
    "print(txt)\n",
    "\n",
    "price = 59\n",
    "txt = f\"The price is {price:.2f} dollars\"\n",
    "print(txt)\n",
    "\n",
    "txt = f\"The price is {20 * 59} dollars\"\n",
    "print(txt)"
   ]
  },
  {
   "cell_type": "markdown",
   "metadata": {},
   "source": [
    "## Escape Characters\n",
    "[Reference](https://www.w3schools.com/python/python_strings_escape.asp)"
   ]
  },
  {
   "cell_type": "code",
   "execution_count": null,
   "metadata": {},
   "outputs": [],
   "source": [
    "txt = \"We are the so-called \\\"Vikings\\\" from the north.\""
   ]
  },
  {
   "cell_type": "markdown",
   "metadata": {},
   "source": [
    "### 練習時間"
   ]
  },
  {
   "cell_type": "markdown",
   "metadata": {},
   "source": [
    "請撰寫一程式，讓使用者輸入一字串，分別將該字串轉換成全部大寫以及每個字的第一個字母大寫。\n",
    "\n",
    "### 輸入說明\n",
    "一個字串\n",
    "\n",
    "### 輸出說明\n",
    "全部大寫\n",
    "每個字的第一個字母大寫\n",
    "\n",
    "### 範例輸入\n",
    "learning python is funny\n",
    "#### 範例輸出\n",
    "LEARNING PYTHON IS FUNNY  \n",
    "Learning Python Is Funny"
   ]
  },
  {
   "cell_type": "code",
   "execution_count": 82,
   "metadata": {},
   "outputs": [
    {
     "name": "stdout",
     "output_type": "stream",
     "text": [
      "GOOD MORNING\n",
      "Good Morning\n"
     ]
    }
   ],
   "source": [
    "x = input()\n",
    "print(x.upper())\n",
    "print(x.title())"
   ]
  },
  {
   "cell_type": "markdown",
   "metadata": {},
   "source": [
    "請撰寫一程式，讓使用者輸入一字串和一字元，並將此字串及字元作為參數傳遞給名為compute()的函式，此函式將回傳該字串中指定字元出現的次數，接著再輸出結果。\n",
    "\n",
    "### 輸入說明\n",
    "一個字串和一個字元\n",
    "\n",
    "### 輸出說明\n",
    "字串中指定字元出現的次數\n",
    "\n",
    "### 範例輸入\n",
    "Our country is beautiful\n",
    "u\n",
    "#### 範例輸出\n",
    "u occurs 4 time(s)"
   ]
  },
  {
   "cell_type": "code",
   "execution_count": 94,
   "metadata": {},
   "outputs": [
    {
     "name": "stdout",
     "output_type": "stream",
     "text": [
      "s occurs 1 time(s)\n"
     ]
    }
   ],
   "source": [
    "a = input()\n",
    "print(\"s occurs\", a.count(\"s\"),\"time(s)\")\n"
   ]
  },
  {
   "cell_type": "code",
   "execution_count": 97,
   "metadata": {},
   "outputs": [
    {
     "name": "stdout",
     "output_type": "stream",
     "text": [
      "fff occurs 0 time(s)\n"
     ]
    }
   ],
   "source": [
    "\n",
    "a = input()\n",
    "\n",
    "target=input()\n",
    "count=a.count(target)\n",
    "print(f\"{target} occurs {count} time(s)\")"
   ]
  },
  {
   "cell_type": "markdown",
   "metadata": {},
   "source": [
    "請修正下列程式碼，使其能正確執行： \n",
    ">>>\n",
    "```python\n",
    "bornYear = input(\"請輸入你的出生年份：\")\n",
    "nowYear = input(\"請輸入今年的年份：\")\n",
    "age = nowYear - bornYear\n",
    "print(\"你今年%d歲\" % age)\n",
    "```"
   ]
  },
  {
   "cell_type": "code",
   "execution_count": 102,
   "metadata": {},
   "outputs": [
    {
     "name": "stdout",
     "output_type": "stream",
     "text": [
      "你今年 21 歲\n"
     ]
    }
   ],
   "source": [
    "bornYear = input(\"請輸入你的出生年份：\")\n",
    "bornYear = int(bornYear)\n",
    "\n",
    "nowYear = input(\"請輸入今年的年份：\")\n",
    "nowYear = int(nowYear)\n",
    "\n",
    "age = nowYear - bornYear\n",
    "\n",
    "print(\"你今年\", age ,\"歲\")\n"
   ]
  },
  {
   "cell_type": "markdown",
   "metadata": {},
   "source": [
    "反轉字串中的字元順序\n"
   ]
  }
 ],
 "metadata": {
  "kernelspec": {
   "display_name": ".venv",
   "language": "python",
   "name": "python3"
  },
  "language_info": {
   "codemirror_mode": {
    "name": "ipython",
    "version": 3
   },
   "file_extension": ".py",
   "mimetype": "text/x-python",
   "name": "python",
   "nbconvert_exporter": "python",
   "pygments_lexer": "ipython3",
   "version": "3.12.4"
  }
 },
 "nbformat": 4,
 "nbformat_minor": 2
}
