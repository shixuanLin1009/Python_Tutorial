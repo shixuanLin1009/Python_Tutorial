{
 "cells": [
  {
   "cell_type": "markdown",
   "metadata": {},
   "source": [
    "# Python Variables\n",
    "Variables are containers for storing data values.\n",
    "- Creating Variables\n",
    "- Casting\n",
    "- Get the Type\n",
    "- Case-Sensitive"
   ]
  },
  {
   "cell_type": "code",
   "execution_count": 1,
   "metadata": {},
   "outputs": [
    {
     "name": "stdout",
     "output_type": "stream",
     "text": [
      "5\n",
      "John\n"
     ]
    }
   ],
   "source": [
    "x = 5\n",
    "y = \"John\"\n",
    "print(x)\n",
    "print(y)"
   ]
  },
  {
   "cell_type": "markdown",
   "metadata": {},
   "source": [
    "### 為什麼要有變數？為什麼要訂定清晰的規則去命名？"
   ]
  },
  {
   "cell_type": "code",
   "execution_count": 5,
   "metadata": {},
   "outputs": [
    {
     "name": "stdout",
     "output_type": "stream",
     "text": [
      "78.53975\n",
      "31.4159\n",
      "523.5983333333332\n"
     ]
    }
   ],
   "source": [
    "#這在幹嘛？\n",
    "print( 3.14159 * (5 ** 2))\n",
    "print( 2 * 3.14159 * 5)\n",
    "print( (4/3) * 3.14159 * (5 ** 3))"
   ]
  },
  {
   "cell_type": "code",
   "execution_count": 6,
   "metadata": {},
   "outputs": [
    {
     "name": "stdout",
     "output_type": "stream",
     "text": [
      "圓的面積: 78.53975\n",
      "圓的周長: 31.4159\n",
      "球的體積: 523.5983333333332\n"
     ]
    }
   ],
   "source": [
    "# 若用函數改寫\n",
    "pi = 3.14159\n",
    "radius = 5\n",
    "\n",
    "area = pi * (radius ** 2)\n",
    "circumference = 2 * pi * radius\n",
    "volume = (4/3) * pi * (radius ** 3)\n",
    "\n",
    "print(\"圓的面積:\", area)\n",
    "print(\"圓的周長:\", circumference)\n",
    "print(\"球的體積:\", volume)"
   ]
  },
  {
   "cell_type": "markdown",
   "metadata": {},
   "source": [
    "變數為程式可讀性以及重複利用是變數的最大價值，更多是賦予程式意義"
   ]
  },
  {
   "cell_type": "markdown",
   "metadata": {},
   "source": [
    "# Variable Names\n",
    "A variable can have a short name (like x and y) or a more descriptive name (age, carname, total_volume). Rules for Python variables:\n",
    "- A variable name must start with a letter or the underscore character\n",
    "- A variable name cannot start with a number\n",
    "- A variable name can only contain alpha-numeric characters and underscores (A-z, 0-9, and _ )\n",
    "- Variable names are case-sensitive (age, Age and AGE are three different variables)\n",
    "- A variable name cannot be any of the Python keywords."
   ]
  },
  {
   "cell_type": "markdown",
   "metadata": {},
   "source": [
    "# Python keywords\n",
    "[Reference python keywords](https://www.w3schools.com/python/python_ref_keywords.asp)"
   ]
  },
  {
   "cell_type": "code",
   "execution_count": 4,
   "metadata": {},
   "outputs": [],
   "source": [
    "myvar = \"John\"\n",
    "my_var = \"John\"\n",
    "_my_var = \"John\"\n",
    "myVar = \"John\"\n",
    "MYVAR = \"John\"\n",
    "myvar2 = \"John\"\n",
    "# Illegal variable names\n",
    "#2myvar = \"John\"\n",
    "#my-var = \"John\"\n",
    "#my var = \"John\""
   ]
  },
  {
   "cell_type": "markdown",
   "metadata": {},
   "source": [
    "## Multi Words Variable Names\n",
    "有時變數代表需多含義需要多個字去組成，但太多字會很難讀\n",
    "命名的幾種準則："
   ]
  },
  {
   "cell_type": "code",
   "execution_count": null,
   "metadata": {},
   "outputs": [],
   "source": [
    "#Camel Case: Each word, except the first, starts with a capital letter\n",
    "MyVariableName = \"John\"\n",
    "\n",
    "#Pascal Case:Each word starts with a capital letter:\n",
    "\n",
    "MyVariableName = \"John\"\n",
    "\n",
    "#Snake Case:Each word is separated by an underscore character:\n",
    "\n",
    "my_variable_name = \"John\""
   ]
  },
  {
   "cell_type": "markdown",
   "metadata": {},
   "source": [
    "## Python 命名代表許多元素意涵\n",
    "取自PEP8 (python Enchanement Proposal)\n",
    "\n",
    "- 函式名稱 全部小寫,為增加可讀性可使用底線 foo() ,my_foo()  \n",
    "- 變數名稱 全部小寫， 全部小寫,為增加可讀性可使用底線 my_var()  \n",
    "- 類別名稱 每一單字首字大寫 MyClass  \n",
    "- 常數名稱 全部大寫 TAX_RATE  \n",
    "- 比較 無需用== true 使用 if(myvar)   "
   ]
  },
  {
   "cell_type": "code",
   "execution_count": 8,
   "metadata": {},
   "outputs": [
    {
     "name": "stdout",
     "output_type": "stream",
     "text": [
      "Eric\n"
     ]
    }
   ],
   "source": [
    "#Variable\n",
    "my_name=\"林世璿\"\n",
    "\n",
    "#function\n",
    "def set_name(new_name):\n",
    "    my_name=new_name\n",
    "\n",
    "#Class\n",
    "class Person:\n",
    "    def __init__(self,name) -> None:\n",
    "        self.name=name\n",
    "        \n",
    "student=Person(\"Eric\")\n",
    "print(student.name)\n",
    "    "
   ]
  },
  {
   "cell_type": "code",
   "execution_count": null,
   "metadata": {},
   "outputs": [],
   "source": [
    "# convient way to assign multiple variables\n",
    "x, y, z = \"Orange\", \"Banana\", \"Cherry\"\n",
    "print(x)\n",
    "print(y)\n",
    "print(z)"
   ]
  },
  {
   "cell_type": "code",
   "execution_count": null,
   "metadata": {},
   "outputs": [],
   "source": [
    "# convient way to assign one value to multiple variables\n",
    "x = y = z = \"Orange\"\n",
    "print(x)\n",
    "print(y)\n",
    "print(z)"
   ]
  },
  {
   "cell_type": "code",
   "execution_count": null,
   "metadata": {},
   "outputs": [],
   "source": [
    "fruits = [\"apple\", \"banana\", \"cherry\"]\n",
    "x, y, z = fruits\n",
    "print(x)\n",
    "print(y)\n",
    "print(z)"
   ]
  },
  {
   "cell_type": "markdown",
   "metadata": {},
   "source": [
    "練習題：\n",
    "- Create a variable called x, assign the value 50 to it, and display it.\n",
    "- Create a variable called y, assign the value 5 to it, and display it.\n",
    "- Create a variable called z, assign x + y to it, and display the result."
   ]
  },
  {
   "cell_type": "markdown",
   "metadata": {},
   "source": [
    "## NamesSpace"
   ]
  },
  {
   "cell_type": "code",
   "execution_count": 13,
   "metadata": {},
   "outputs": [
    {
     "name": "stdout",
     "output_type": "stream",
     "text": [
      "Python is fantastic\n",
      "Python is awesome\n"
     ]
    }
   ],
   "source": [
    "x = \"awesome\"\n",
    "\n",
    "def myfunc():\n",
    "  x = \"fantastic\"\n",
    "  print(\"Python is \" + x)\n",
    "\n",
    "myfunc()\n",
    "\n",
    "print(\"Python is \" + x)"
   ]
  },
  {
   "cell_type": "code",
   "execution_count": null,
   "metadata": {},
   "outputs": [],
   "source": []
  }
 ],
 "metadata": {
  "kernelspec": {
   "display_name": ".venv",
   "language": "python",
   "name": "python3"
  },
  "language_info": {
   "codemirror_mode": {
    "name": "ipython",
    "version": 3
   },
   "file_extension": ".py",
   "mimetype": "text/x-python",
   "name": "python",
   "nbconvert_exporter": "python",
   "pygments_lexer": "ipython3",
   "version": "3.12.4"
  }
 },
 "nbformat": 4,
 "nbformat_minor": 2
}
