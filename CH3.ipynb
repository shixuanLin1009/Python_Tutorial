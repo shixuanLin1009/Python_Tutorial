{
 "cells": [
  {
   "cell_type": "markdown",
   "metadata": {},
   "source": [
    "## Data types\n",
    "Here’s a list of all the built-in data types in Python:\n",
    "\n",
    "### 1. **Numeric Types**:\n",
    "   - **int**: Integer type (e.g., `5`, `-10`)\n",
    "   - **float**: Floating-point type (e.g., `5.0`, `-3.14`)\n",
    "   - **complex**: Complex number type (e.g., `3 + 5j`)\n",
    "\n",
    "### 2. **Sequence Types**:\n",
    "   - **list**: Mutable ordered sequence of elements (e.g., `[1, 2, 3]`)\n",
    "   - **tuple**: Immutable ordered sequence of elements (e.g., `(1, 2, 3)`)\n",
    "   - **range**: Immutable sequence representing numbers (e.g., `range(10)`)\n",
    "\n",
    "### 3. **Text Type**:\n",
    "   - **str**: String type for text (e.g., `\"hello\"`, `\"world\"`)\n",
    "\n",
    "### 4. **Binary Types**:\n",
    "   - **bytes**: Immutable sequence of bytes (e.g., `b'hello'`)\n",
    "   - **bytearray**: Mutable sequence of bytes (e.g., `bytearray(b'hello')`)\n",
    "   - **memoryview**: Memory view object, which allows access to internal data of objects like `bytes` without copying (e.g., `memoryview(b'hello')`)\n",
    "\n",
    "### 5. **Set Types**:\n",
    "   - **set**: Unordered collection of unique elements (e.g., `{1, 2, 3}`)\n",
    "   - **frozenset**: Immutable version of a set (e.g., `frozenset({1, 2, 3})`)\n",
    "\n",
    "### 6. **Mapping Type**:\n",
    "   - **dict**: Dictionary with key-value pairs (e.g., `{\"key\": \"value\"}`)\n",
    "\n",
    "### 7. **Boolean Type**:\n",
    "   - **bool**: Boolean values `True` and `False`\n",
    "\n",
    "### 8. **None Type**:\n",
    "   - **NoneType**: Represents the absence of a value (`None`)\n",
    "\n",
    "These are the core built-in data types in Python that are widely used for various types of data manipulation and computation."
   ]
  },
  {
   "cell_type": "markdown",
   "metadata": {},
   "source": [
    "### Python Numbers\n",
    "There are three numeric types in Python:\n",
    "\n",
    "- int\n",
    "- float\n",
    "- complex"
   ]
  },
  {
   "cell_type": "code",
   "execution_count": null,
   "metadata": {},
   "outputs": [],
   "source": [
    "x = 1    # int\n",
    "y = 2.8  # float\n",
    "z = 1j   # complex\n",
    "\n",
    "#convert from int to float:\n",
    "a = float(x)\n",
    "\n",
    "#convert from float to int:\n",
    "b = int(y)\n",
    "\n",
    "#convert from int to complex:\n",
    "c = complex(x)\n",
    "\n",
    "print(a)\n",
    "print(b)\n",
    "print(c)\n",
    "\n",
    "print(type(a))\n",
    "print(type(b))\n",
    "print(type(c))"
   ]
  },
  {
   "cell_type": "code",
   "execution_count": 2,
   "metadata": {},
   "outputs": [
    {
     "name": "stdout",
     "output_type": "stream",
     "text": [
      "8\n"
     ]
    }
   ],
   "source": [
    "#Random Number\n",
    "import random\n",
    "\n",
    "print(random.randrange(1, 10))"
   ]
  },
  {
   "cell_type": "code",
   "execution_count": null,
   "metadata": {},
   "outputs": [],
   "source": [
    "#請建立一個變數代表錢包內的餘額共124元\n",
    "#請建立一個變數代表臂展長度為99.3公分\n",
    "#請建立一個變數拜代表複數平面上的向量3+5j"
   ]
  },
  {
   "cell_type": "markdown",
   "metadata": {},
   "source": [
    "### Python Casting\n",
    "Specify a Variable Type\n",
    "- int() - constructs an integer number from an integer literal, a float literal (by removing all decimals), or a string literal (providing the string represents a whole number)\n",
    "- float() - constructs a float number from an integer literal, a float literal or a string literal (providing the string represents a float or an integer)\n",
    "- str() - constructs a string from a wide variety of data types, including strings, integer literals and float literals\n"
   ]
  },
  {
   "cell_type": "code",
   "execution_count": 4,
   "metadata": {},
   "outputs": [],
   "source": [
    "x = int(1)   # x will be 1\n",
    "y = int(2.8) # y will be 2\n",
    "z = int(\"3\") # z will be 3\n",
    "\n",
    "x = float(1)     # x will be 1.0\n",
    "y = float(2.8)   # y will be 2.8\n",
    "z = float(\"3\")   # z will be 3.0\n",
    "w = float(\"4.2\") # w will be 4.2\n",
    "\n",
    "x = str(\"s1\") # x will be 's1'\n",
    "y = str(2)    # y will be '2'\n",
    "z = str(3.0)  # z will be '3.0'"
   ]
  },
  {
   "cell_type": "code",
   "execution_count": null,
   "metadata": {},
   "outputs": [],
   "source": [
    "\"\"\"今年奶奶和大野狼的年齡加起來66歲,12年後,奶奶的年齡為大野狼的4倍\n",
    "請問今年奶奶的年齡比大野狼大幾歲？\n",
    "\"\"\"\n"
   ]
  },
  {
   "cell_type": "code",
   "execution_count": 13,
   "metadata": {},
   "outputs": [
    {
     "name": "stdout",
     "output_type": "stream",
     "text": [
      "   Duration  Pulse  Maxpulse  Calories\n",
      "0        60    110       130     409.1\n",
      "1        60    117       145     479.0\n",
      "2        60    103       135     340.0\n",
      "3        45    109       175     282.4\n",
      "4        45    117       148     406.0\n",
      "5        60    102       127     300.0\n",
      "6        60    110       136     374.0\n",
      "7        45    104       134     253.3\n",
      "8        30    109       133     195.1\n",
      "9        60     98       124     269.0\n"
     ]
    }
   ],
   "source": [
    "import pandas as pd\n",
    "\n",
    "# Open the CSV file and display it as a DataFrame\n",
    "pd.options.display.max_rows = 10\n",
    "df_workout = pd.read_csv('data.csv')\n",
    "print(df_workout.head(10))\n",
    "pd.cou\n",
    "print(df_workout.info())"
   ]
  },
  {
   "cell_type": "markdown",
   "metadata": {},
   "source": [
    "## Python Strings\n",
    "Strings in python are surrounded by either single quotation marks, or double quotation marks.\n",
    "\n",
    "'hello' is the same as \"hello\".\n",
    "\n",
    "You can display a string literal with the print() function:"
   ]
  },
  {
   "cell_type": "code",
   "execution_count": 10,
   "metadata": {},
   "outputs": [
    {
     "name": "stdout",
     "output_type": "stream",
     "text": [
      "It's alright\n",
      "He is called 'Johnny'\n",
      "He is called \"Johnny\"\n"
     ]
    }
   ],
   "source": [
    "print(\"It's alright\")\n",
    "print(\"He is called 'Johnny'\")\n",
    "print('He is called \"Johnny\"')"
   ]
  },
  {
   "cell_type": "code",
   "execution_count": 11,
   "metadata": {},
   "outputs": [
    {
     "name": "stdout",
     "output_type": "stream",
     "text": [
      "Lorem ipsum dolor sit amet,\n",
      "consectetur adipiscing elit,\n",
      "sed do eiusmod tempor incididunt\n",
      "ut labore et dolore magna aliqua.\n"
     ]
    }
   ],
   "source": [
    "a = \"\"\"Lorem ipsum dolor sit amet,\n",
    "consectetur adipiscing elit,\n",
    "sed do eiusmod tempor incididunt\n",
    "ut labore et dolore magna aliqua.\"\"\"\n",
    "print(a)\n"
   ]
  },
  {
   "cell_type": "code",
   "execution_count": null,
   "metadata": {},
   "outputs": [],
   "source": []
  }
 ],
 "metadata": {
  "kernelspec": {
   "display_name": ".venv",
   "language": "python",
   "name": "python3"
  },
  "language_info": {
   "codemirror_mode": {
    "name": "ipython",
    "version": 3
   },
   "file_extension": ".py",
   "mimetype": "text/x-python",
   "name": "python",
   "nbconvert_exporter": "python",
   "pygments_lexer": "ipython3",
   "version": "3.12.4"
  }
 },
 "nbformat": 4,
 "nbformat_minor": 2
}
