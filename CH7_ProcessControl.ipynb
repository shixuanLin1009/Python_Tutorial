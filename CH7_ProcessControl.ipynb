{
 "cells": [
  {
   "cell_type": "markdown",
   "metadata": {},
   "source": [
    "# 流程控制的 保留字\n",
    "- If...else\n",
    "- for \n",
    "- while"
   ]
  },
  {
   "cell_type": "markdown",
   "metadata": {},
   "source": [
    "# 縮排(indentation)的意義\n",
    "利用縮排來表示函數內所致行的範圍。\n"
   ]
  },
  {
   "cell_type": "code",
   "execution_count": null,
   "metadata": {},
   "outputs": [
    {
     "name": "stdout",
     "output_type": "stream",
     "text": [
      "a is greater than b\n"
     ]
    }
   ],
   "source": [
    "# if statement\n",
    "a = 33\n",
    "b = 200\n",
    "\n",
    "if a < b :\n",
    "    print(\"a is greater than b\")\n"
   ]
  },
  {
   "cell_type": "code",
   "execution_count": null,
   "metadata": {},
   "outputs": [
    {
     "name": "stdout",
     "output_type": "stream",
     "text": [
      "a is greater than b\n"
     ]
    }
   ],
   "source": [
    "# elif statement\n",
    "a = 10\n",
    "b=10\n",
    "\n",
    "if a==b:\n",
    "    print(\"a is greater than b\")\n",
    "elif a<b:\n",
    "    print(\"a is euqal to b\")\n"
   ]
  },
  {
   "cell_type": "code",
   "execution_count": null,
   "metadata": {},
   "outputs": [
    {
     "name": "stdout",
     "output_type": "stream",
     "text": [
      "22\n",
      "<class 'str'>\n",
      "22\n",
      "<class 'int'>\n",
      "False\n"
     ]
    }
   ],
   "source": [
    "a = \"22\"\n",
    "print(a)\n",
    "print(type(a))\n",
    "b = int(a)\n",
    "print(b)\n",
    "print(type(b))\n",
    "\n",
    "print(a==b)"
   ]
  },
  {
   "cell_type": "code",
   "execution_count": null,
   "metadata": {},
   "outputs": [
    {
     "name": "stdout",
     "output_type": "stream",
     "text": [
      "a is smaller than b\n"
     ]
    }
   ],
   "source": [
    "# else statement\n",
    "a = 20\n",
    "b = 30\n",
    "\n",
    "if a<b:\n",
    "    print(\"a is smaller than b\")\n",
    "elif a<b:\n",
    "    print(\"a is greater than b\")\n",
    "else:\n",
    "    print(\"a is equal to b\")\n",
    "    "
   ]
  },
  {
   "cell_type": "code",
   "execution_count": null,
   "metadata": {},
   "outputs": [
    {
     "name": "stdout",
     "output_type": "stream",
     "text": [
      "a is 2 的倍數\n"
     ]
    }
   ],
   "source": [
    "# else statement\n",
    "a = int(input(\"請輸入數字，自動判斷倍數\"))\n",
    "\n",
    "\n",
    "\n",
    "if a%2 ==0:\n",
    "    print(\"a is 2 的倍數\")\n",
    "elif a%3 == 0:\n",
    "    print(\"a is 3 的倍數\")\n",
    "else:\n",
    "    print(\"a 不是3的倍數，也不是2的倍數\")"
   ]
  },
  {
   "cell_type": "code",
   "execution_count": null,
   "metadata": {},
   "outputs": [
    {
     "name": "stdout",
     "output_type": "stream",
     "text": [
      "a is greater than b\n"
     ]
    }
   ],
   "source": [
    "# short hand if\n",
    "if a > b: print(\"a is greater than b\")"
   ]
  },
  {
   "cell_type": "code",
   "execution_count": null,
   "metadata": {},
   "outputs": [],
   "source": [
    "#pass statement\n",
    "#用來當作佔位符，不做任何事情，讓程式可以正常運行\n",
    "\n",
    "if b%17==0:\n",
    "    pass"
   ]
  },
  {
   "cell_type": "markdown",
   "metadata": {},
   "source": [
    "## While loop\n",
    "why we need the loop?"
   ]
  },
  {
   "cell_type": "code",
   "execution_count": null,
   "metadata": {},
   "outputs": [
    {
     "name": "stdout",
     "output_type": "stream",
     "text": [
      "0\n",
      "4\n",
      "[20.0, 15.0, 13.333333333333334, 12.5]\n",
      "<class 'list'>\n"
     ]
    }
   ],
   "source": [
    "#請輸出請根據具矩陣中的行使距離以及時間，計算出速度\n",
    "#輸出格式如下：\n",
    "#The speed is 60.0 km/h\n",
    "\n",
    "distance=[20,30,40,50]\n",
    "time = [1,2,3,4]\n",
    "\n",
    "speed=[]\n",
    "print(len(speed))\n",
    "speed.append(distance[0]/time[0])\n",
    "speed.append(distance[1]/time[1])\n",
    "speed.append(distance[2]/time[2])\n",
    "speed.append(distance[3]/time[3])\n",
    "print(len(speed))\n",
    "print(speed)\n",
    "print(type(speed))"
   ]
  },
  {
   "cell_type": "markdown",
   "metadata": {},
   "source": []
  },
  {
   "cell_type": "code",
   "execution_count": 10,
   "metadata": {},
   "outputs": [
    {
     "name": "stdout",
     "output_type": "stream",
     "text": [
      "1\n",
      "5\n"
     ]
    }
   ],
   "source": [
    "#what is while loop\n",
    "#while loop is used to execute a block of statements repeatedly until a given condition is satisfied. And when the condition becomes false, the line immediately after the loop in program is executed.\n",
    "speed=[1,4,5,5]\n",
    "i=0\n",
    "while i<len(speed):\n",
    "    print(speed[i])\n",
    "    i+=2\n"
   ]
  },
  {
   "cell_type": "code",
   "execution_count": 13,
   "metadata": {},
   "outputs": [
    {
     "name": "stdout",
     "output_type": "stream",
     "text": [
      "first print 0\n",
      "Second print 0\n",
      "first print 1\n",
      "Second print 1\n",
      "first print 2\n",
      "Second print 2\n",
      "first print 3\n",
      "Second print 3\n",
      "first print 4\n",
      "third print 4\n"
     ]
    }
   ],
   "source": [
    "#break statement\n",
    "#The break statement is used to terminate the loop containing it. Control of the program flows to the statement immediately after the body of the loop.\n",
    "i=0\n",
    "while i<6:\n",
    "    print(\"first print\",i)\n",
    "    if i==4:\n",
    "        break\n",
    "    print(\"Second print\",i)\n",
    "    i+=1\n",
    "print(\"third print\",i)"
   ]
  },
  {
   "cell_type": "code",
   "execution_count": 14,
   "metadata": {},
   "outputs": [
    {
     "name": "stdout",
     "output_type": "stream",
     "text": [
      "1\n",
      "2\n",
      "3\n",
      "4\n",
      "5\n",
      "6\n",
      "7\n",
      "8\n",
      "9\n",
      "10\n",
      "The sum of even numbers from 1 to 10 is: 30\n"
     ]
    }
   ],
   "source": [
    "#continue statement\n",
    "#The continue statement is used to skip the rest of the code inside a loop for the current iteration only. Loop does not terminate but continues on with the next iteration.\n",
    "total = 0\n",
    "\n",
    "for num in range(1, 11):  # Loop through numbers 1 to 10\n",
    "    print(num)\n",
    "    if num % 2 != 0:  # Check if the number is odd\n",
    "        continue  # Skip the rest of the loop for odd numbers\n",
    "    total += num  # Add even numbers to the total\n",
    "\n",
    "print(f\"The sum of even numbers from 1 to 10 is: {total}\")\n"
   ]
  },
  {
   "cell_type": "code",
   "execution_count": 15,
   "metadata": {},
   "outputs": [
    {
     "name": "stdout",
     "output_type": "stream",
     "text": [
      "first print 0\n",
      "first print 1\n",
      "first print 2\n",
      "first print 3\n",
      "first print 4\n",
      "first print 5\n",
      "迴圈執行完畢\n",
      "third print 6\n"
     ]
    }
   ],
   "source": [
    "#else statement\n",
    "#The else statement is an optional statement and there could be at most only one else statement following if..elif statements.\n",
    "i=0\n",
    "while i<6:\n",
    "    print(\"first print\",i)\n",
    "    i+=1\n",
    "else:\n",
    "    print(\"迴圈執行完畢\")\n",
    "print(\"third print\",i)"
   ]
  },
  {
   "cell_type": "markdown",
   "metadata": {},
   "source": [
    "## For loop\n",
    "\n",
    "if we have the while, why we need for?"
   ]
  },
  {
   "cell_type": "code",
   "execution_count": null,
   "metadata": {},
   "outputs": [
    {
     "name": "stdout",
     "output_type": "stream",
     "text": [
      "0\n",
      "1\n",
      "2\n",
      "3\n",
      "4\n",
      "5\n",
      "6\n",
      "7\n",
      "8\n",
      "9\n"
     ]
    }
   ],
   "source": [
    "#what is for loop\n",
    "for i in range(10):\n",
    "  print(i)"
   ]
  },
  {
   "cell_type": "code",
   "execution_count": 18,
   "metadata": {},
   "outputs": [
    {
     "name": "stdout",
     "output_type": "stream",
     "text": [
      "[1, 5, 9]\n",
      "[1, 3, 5, 7, 9]\n",
      "[1, 4, 7]\n"
     ]
    }
   ],
   "source": [
    "#range()\n",
    "print(list(range(1,10,4)))\n",
    "print(list(range(1,10,2)))\n",
    "print(list(range(1,10,3)))\n",
    "\n"
   ]
  },
  {
   "cell_type": "code",
   "execution_count": null,
   "metadata": {},
   "outputs": [
    {
     "name": "stdout",
     "output_type": "stream",
     "text": [
      "3\n",
      "6\n"
     ]
    }
   ],
   "source": [
    "#loop though container data\n",
    "\n",
    "a = [2,5,6,2,5,5,6]\n",
    "\n",
    "for i in a:\n",
    "    print(i+1)\n",
    "    \n",
    "    \n",
    "    \n",
    "    \n",
    "    \n",
    "    \n",
    "    \n",
    "    \n",
    "    \n",
    "    \n",
    "    \n",
    "    \n",
    "    \n",
    "    \n",
    "    \n",
    "    \n",
    "    \n",
    "    \n",
    "\n",
    "    \n",
    "    \n",
    "    \n",
    "    if i==5:\n",
    "        break\n",
    "    "
   ]
  },
  {
   "cell_type": "markdown",
   "metadata": {},
   "source": [
    "## For vs While\n",
    "key Difference:\n",
    "- for loop: Used when the number of iterations is known beforehand.\n",
    "- while loop: Used when the number of iterations depends on a condition that needs to be checked dynamically."
   ]
  },
  {
   "cell_type": "code",
   "execution_count": 24,
   "metadata": {},
   "outputs": [
    {
     "name": "stdout",
     "output_type": "stream",
     "text": [
      "1\n",
      "2\n",
      "3\n",
      "4\n",
      "5\n",
      "1\n",
      "2\n",
      "3\n",
      "4\n",
      "5\n"
     ]
    }
   ],
   "source": [
    "for i in range(1, 6):  # Loop runs exactly 5 times\n",
    "    print(i)\n",
    "    \n",
    "i = 1\n",
    "while i <= 5:  # Loop runs as long as `i` is less than or equal to 5\n",
    "    print(i)\n",
    "    i += 1\n"
   ]
  },
  {
   "cell_type": "markdown",
   "metadata": {},
   "source": [
    "# Function"
   ]
  },
  {
   "cell_type": "markdown",
   "metadata": {},
   "source": [
    "## why we need function"
   ]
  },
  {
   "cell_type": "code",
   "execution_count": null,
   "metadata": {},
   "outputs": [
    {
     "name": "stdout",
     "output_type": "stream",
     "text": [
      "28.26\n"
     ]
    }
   ],
   "source": [
    "#create a function\n",
    "def calCircleArea(r):#paremeter\n",
    "  return r*r*3.14\n",
    "  \n",
    "\n",
    "#calling function\n",
    "circluArea=calCircleArea(3)#argument\n",
    "print(circluArea)\n",
    "#Information can be passed into functions as arguments.\n"
   ]
  },
  {
   "cell_type": "code",
   "execution_count": null,
   "metadata": {},
   "outputs": [
    {
     "name": "stdout",
     "output_type": "stream",
     "text": [
      "2\n",
      "2\n"
     ]
    }
   ],
   "source": [
    "\n",
    "def my_fuction():\n",
    "    x=1\n",
    "    x=2\n",
    "    return x\n",
    "x=my_fuction()\n",
    "print(x)\n"
   ]
  },
  {
   "cell_type": "markdown",
   "metadata": {},
   "source": [
    "while calling the function the argument pass into function must ailght to the paramenter in function definition."
   ]
  },
  {
   "cell_type": "code",
   "execution_count": 28,
   "metadata": {},
   "outputs": [
    {
     "name": "stdout",
     "output_type": "stream",
     "text": [
      "Order Summary:\n",
      " - Size: Large\n",
      " - Crust Type: Thin Crust\n",
      " - Toppings: Pepperoni, Mushrooms, Olives\n",
      "Order Summary:\n",
      " - Size: Medium\n",
      " - Crust Type: Stuffed Crust\n",
      " - Toppings: Cheese, Bacon\n",
      "Order Summary:\n",
      " - Size: Small\n",
      " - Crust Type: Cheese Burst\n",
      " - Toppings: Corn, Jalapenos\n",
      "Order Summary:\n",
      " - Size: Medium\n",
      " - Crust Type: Regular Crust\n",
      " - Toppings: None\n"
     ]
    }
   ],
   "source": [
    "#Keyword Arguments\n",
    "#there are two type of arguments poistional and keyeward\n",
    "# Define a function\n",
    "def order_pizza(size, crust_type, toppings=[]):\n",
    "    print(f\"Order Summary:\")\n",
    "    print(f\" - Size: {size}\")\n",
    "    print(f\" - Crust Type: {crust_type}\")\n",
    "    print(f\" - Toppings: {', '.join(toppings) if toppings else 'None'}\")\n",
    "\n",
    "# Using positional arguments\n",
    "order_pizza(\"Large\", \"Thin Crust\", [\"Pepperoni\", \"Mushrooms\", \"Olives\"])\n",
    "\n",
    "# Using keyword arguments\n",
    "order_pizza( crust_type=\"Stuffed Crust\",size=\"Medium\", toppings=[\"Cheese\", \"Bacon\"])\n",
    "\n",
    "# Mixing positional and keyword arguments\n",
    "order_pizza(\"Small\", crust_type=\"Cheese Burst\", toppings=[\"Corn\", \"Jalapenos\"])\n",
    "\n",
    "# Calling with default values (no keyword or positional arguments for `toppings`)\n",
    "order_pizza(\"Medium\", \"Regular Crust\")\n"
   ]
  },
  {
   "cell_type": "code",
   "execution_count": 29,
   "metadata": {},
   "outputs": [
    {
     "name": "stdout",
     "output_type": "stream",
     "text": [
      "The youngest child is candy\n"
     ]
    }
   ],
   "source": [
    "#Arbitrary Arguments, *args\n",
    "def my_function(*kids):\n",
    "  print(\"The youngest child is \" + kids[len(kids)-1])\n",
    "\n",
    "my_function(\"Emil\", \"Tobias\", \"Linus\",\"james\",\"candy\")"
   ]
  },
  {
   "cell_type": "code",
   "execution_count": 30,
   "metadata": {},
   "outputs": [
    {
     "name": "stdout",
     "output_type": "stream",
     "text": [
      "Recursion Example Results:\n",
      "1\n",
      "3\n",
      "6\n",
      "10\n",
      "15\n",
      "21\n"
     ]
    },
    {
     "data": {
      "text/plain": [
       "21"
      ]
     },
     "execution_count": 30,
     "metadata": {},
     "output_type": "execute_result"
    }
   ],
   "source": [
    "#recursion\n",
    "def tri_recursion(k):\n",
    "  if(k > 0):\n",
    "    result = k + tri_recursion(k - 1)\n",
    "    print(result)\n",
    "  else:\n",
    "    result = 0\n",
    "  return result\n",
    "\n",
    "print(\"Recursion Example Results:\")\n",
    "tri_recursion(6)"
   ]
  },
  {
   "cell_type": "markdown",
   "metadata": {},
   "source": [
    "## Lambda\n",
    "A lambda function is a small anonymous function.\n",
    "### Syntax\n",
    "lambda arguments : expression"
   ]
  },
  {
   "cell_type": "code",
   "execution_count": null,
   "metadata": {},
   "outputs": [
    {
     "name": "stdout",
     "output_type": "stream",
     "text": [
      "20\n",
      "20\n"
     ]
    }
   ],
   "source": [
    "#Add 10 to argument a, and return the result\n",
    "def addTen(a):\n",
    "    return a+10\n",
    "x= addTen(10)\n",
    "print(x)\n",
    "\n",
    "x = lambda a:a+10\n",
    "print(x(10))"
   ]
  },
  {
   "cell_type": "code",
   "execution_count": 33,
   "metadata": {},
   "outputs": [
    {
     "name": "stdout",
     "output_type": "stream",
     "text": [
      "8\n"
     ]
    }
   ],
   "source": [
    "#Multiply argument a with argument b and return the result:\n",
    "y = lambda a,b:a*b\n",
    "print(y(2,4))"
   ]
  },
  {
   "cell_type": "markdown",
   "metadata": {},
   "source": [
    "### Why Use Lambda Functions?\n",
    "The power of lambda is better shown when you use them as an anonymous function inside another function.\n",
    "\n",
    "Say you have a function definition that takes one argument, and that argument will be multiplied with an unknown number:"
   ]
  },
  {
   "cell_type": "code",
   "execution_count": 37,
   "metadata": {},
   "outputs": [
    {
     "name": "stdout",
     "output_type": "stream",
     "text": [
      "22\n",
      "33\n",
      "66\n"
     ]
    }
   ],
   "source": [
    "# #def myfunc(n):\n",
    "#   return lambda a : a * n\n",
    "def myfunc(n):\n",
    "    return lambda a: a*n\n",
    "my_doubler=myfunc(2)\n",
    "my_tribler=myfunc(3)\n",
    "six_times=myfunc(6)\n",
    "\n",
    "print(my_doubler(11))\n",
    "print(my_tribler(11))\n",
    "print(six_times(11))"
   ]
  },
  {
   "cell_type": "code",
   "execution_count": null,
   "metadata": {},
   "outputs": [
    {
     "name": "stdout",
     "output_type": "stream",
     "text": [
      "22\n",
      "33\n"
     ]
    }
   ],
   "source": [
    "def my_doubler(a):\n",
    "    return a*2\n",
    "def my_tribler(a):\n",
    "    return a*3\n",
    "def my_six_times(a):\n",
    "    return a*6\n",
    "print(my_doubler(11))\n",
    "print(my_tribler(11))"
   ]
  },
  {
   "cell_type": "code",
   "execution_count": null,
   "metadata": {},
   "outputs": [],
   "source": []
  }
 ],
 "metadata": {
  "kernelspec": {
   "display_name": ".venv",
   "language": "python",
   "name": "python3"
  },
  "language_info": {
   "codemirror_mode": {
    "name": "ipython",
    "version": 3
   },
   "file_extension": ".py",
   "mimetype": "text/x-python",
   "name": "python",
   "nbconvert_exporter": "python",
   "pygments_lexer": "ipython3",
   "version": "3.12.4"
  }
 },
 "nbformat": 4,
 "nbformat_minor": 2
}
